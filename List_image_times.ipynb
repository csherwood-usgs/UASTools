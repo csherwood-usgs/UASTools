{
 "cells": [
  {
   "cell_type": "markdown",
   "metadata": {},
   "source": [
    "#### Import packages and define the namespace for the GPX schema\n",
    "\n",
    "If you get an error here, you will have to add packages to your Python distribution"
   ]
  },
  {
   "cell_type": "code",
   "execution_count": 1,
   "metadata": {
    "collapsed": true
   },
   "outputs": [],
   "source": [
    "import matplotlib.pyplot as plt\n",
    "import numpy as np\n",
    "import os\n",
    "from PIL import Image, ExifTags\n",
    "import datetime as dt\n",
    "import pandas as pd\n",
    "from lxml import etree\n",
    "%matplotlib inline\n",
    "\n",
    "# This is where the elements of the xml (gpx) file are defined\n",
    "namespace = {'def': 'http://www.topografix.com/GPX/1/1'}"
   ]
  },
  {
   "cell_type": "markdown",
   "metadata": {},
   "source": [
    "#### All of the user input comes in this cell\n",
    "TODO: add prompts for file/folder names, rather than editing here"
   ]
  },
  {
   "cell_type": "code",
   "execution_count": 16,
   "metadata": {
    "collapsed": false
   },
   "outputs": [
    {
     "data": {
      "text/plain": [
       "-14400.0"
      ]
     },
     "execution_count": 16,
     "metadata": {},
     "output_type": "execute_result"
    }
   ],
   "source": [
    "# User input\n",
    "# Enter name of .gpx file\n",
    "logfile = 'H:\\\\2017-06-12_Duck_UAS\\\\gpx\\\\f5.gpx'\n",
    "\n",
    "# Enter folder with associated images\n",
    "imagefolder = 'H:\\\\2017-06-12_Duck_UAS\\\\jpeg\\\\f5'\n",
    "\n",
    "# Enter time offset (seconds) so that imagetime + offset = log time\n",
    "-4.*3600. # The GPS data is being read in local time, the images are stamped with UTC"
   ]
  },
  {
   "cell_type": "markdown",
   "metadata": {},
   "source": [
    "#### Define two functions to convert back and forth from Python datetime to Matlab datenum\n",
    "Alternatively, I could learn how to use datetime\n"
   ]
  },
  {
   "cell_type": "code",
   "execution_count": 3,
   "metadata": {
    "collapsed": false
   },
   "outputs": [
    {
     "name": "stdout",
     "output_type": "stream",
     "text": [
      "(datetime.datetime(2012, 2, 13, 6, 56, 2, 618997), 734912.2889192014, 734912.2889192014)\n",
      "2012-02-13 07:01:02.619000\n"
     ]
    }
   ],
   "source": [
    "# routines to convert back and forth from datetime to Matlab datenum\n",
    "def matlabdn2datetime(dn):\n",
    "    \"\"\"\n",
    "    Input: Matlab datenum\n",
    "    Returns: datetime   \n",
    "    http://stackoverflow.com/questions/13965740/converting-matlabs-datenum-format-to-python\n",
    "    \"\"\"\n",
    "    day = dt.datetime.fromordinal(int(dn))\n",
    "    dayfrac = dt.timedelta(days=dn%1) - dt.timedelta(days = 366)\n",
    "    return day + dayfrac\n",
    "\n",
    "def datetime2matlabdn(dtn):\n",
    "    \"\"\"\n",
    "    Input: datetime\n",
    "    Returns: Matlab datenum  \n",
    "    http://stackoverflow.com/questions/8776414/python-datetime-to-matlab-datenum\n",
    "    \"\"\"\n",
    "    mdn = dtn + dt.timedelta(days = 366)\n",
    "    frac_seconds = (dtn-dt.datetime(dtn.year,dtn.month,dtn.day,0,0,0)).seconds / (24.0 * 60.0 * 60.0)\n",
    "    frac_microseconds = dtn.microsecond / (24.0 * 60.0 * 60.0 * 1000000.0)\n",
    "    return mdn.toordinal() + frac_seconds + frac_microseconds\n",
    "\n",
    "# examples\n",
    "dtn=dt.datetime(2012, 2, 13, 6, 56, 2, 619000)\n",
    "dn1=datetime2matlabdn(dtn)\n",
    "dtn2 = matlabdn2datetime(dn1)\n",
    "dn2 =datetime2matlabdn(dtn2)\n",
    "print(dtn2,dn1,dn2)\n",
    "print(dtn+dt.timedelta(minutes=5.))"
   ]
  },
  {
   "cell_type": "markdown",
   "metadata": {},
   "source": [
    "### Parse the  .gpx file written by MissionPlanner, making arrays of time (in Matlab datenum representation)\n",
    "...and the other stuff we want to use"
   ]
  },
  {
   "cell_type": "code",
   "execution_count": 11,
   "metadata": {
    "collapsed": false
   },
   "outputs": [
    {
     "name": "stdout",
     "output_type": "stream",
     "text": [
      "(array([ 36.1810293, -75.7552479]), 36.181029299999999, -75.755247900000001)\n",
      "(4860L, 2L)\n",
      "(datetime.datetime(2017, 6, 12, 14, 23, 18), datetime.datetime(2017, 6, 12, 14, 40, 3), 736858.59951388894, 736858.61114583339, (4860L,))\n",
      "(-0.70999999999999996, (4860L,))\n",
      "(4860L, 0L)\n",
      "(-0.23999999999999999, (4860L,))\n",
      "(4860L, 0L)\n",
      "('course: 0.0', (4860L,))\n",
      "(4860L, 0L)\n",
      "('roll: 0.0', (4860L,))\n",
      "(4860L, 0L)\n",
      "('pitch: 0.0', (4860L,))\n",
      "(4860L, 0L)\n",
      "('mode: Loiter', (4860L,))\n",
      "(4860L, 0L)\n"
     ]
    },
    {
     "data": {
      "image/png": "[encoded data removed]",
      "text/plain": [
       "<matplotlib.figure.Figure at 0x3fddd30>"
      ]
     },
     "metadata": {},
     "output_type": "display_data"
    },
    {
     "name": "stdout",
     "output_type": "stream",
     "text": [
      "2017-06-12 14:23:18, 736858.599514, 36.1810293, -75.7552479, -0.71, -0.24, 0.0, 0.0, 0.0, Loiter\n",
      "2017-06-12 14:23:18, 736858.599514, 36.1810294, -75.7552479, -0.7, -0.23, 340.7037, -1.265236, 2.383145, Loiter\n",
      "2017-06-12 14:29:58, 736858.604144, 36.1810294, -75.755248, -0.7, -0.23, 340.6925, -1.266573, 2.377564, Loiter\n",
      "2017-06-12 14:29:58, 736858.604144, 36.1810294, -75.7552479, -0.68, -0.21, 340.6851, -1.264506, 2.378118, Loiter\n",
      "2017-06-12 14:29:58, 736858.604144, 36.1810295, -75.755248, -0.68, -0.21, 340.6866, -1.264782, 2.371143, Loiter\n",
      "2017-06-12 14:29:59, 736858.604155, 36.1810295, -75.7552479, -0.67, -0.2, 340.6675, -1.27157, 2.368215, Loiter\n",
      "2017-06-12 14:29:59, 736858.604155, 36.1810296, -75.755248, -0.67, -0.2, 340.656, -1.26118, 2.370797, Loiter\n",
      "2017-06-12 14:30:01, 736858.604178, 36.1810297, -75.755248, -0.63, -0.16, 340.6332, -1.258554, 2.370206, Loiter\n",
      "2017-06-12 14:30:02, 736858.60419, 36.1810296, -75.7552479, -0.64, -0.17, 340.6247, -1.26225, 2.371711, Loiter\n",
      "2017-06-12 14:30:02, 736858.60419, 36.1810297, -75.755248, -0.64, -0.17, 340.6178, -1.256154, 2.370396, Loiter\n"
     ]
    }
   ],
   "source": [
    "# Parse .gpx\n",
    "tree = etree.parse(logfile)\n",
    "\n",
    "# Extract componeents from the trackpoints (ignore the waypoints)\n",
    "# latitude and longitude\n",
    "elist = tree.xpath('./def:trk//def:trkpt',namespaces=namespace)\n",
    "lonlat = [e.values() for e in elist]\n",
    "lonlat = np.array(lonlat,dtype=\"float\")\n",
    "lat = lonlat[:,0]\n",
    "lon = lonlat[:,1]\n",
    "#TODO Remove these extraneous print statements\n",
    "print(lonlat[0],lat[0],lon[0])\n",
    "print(np.shape(lonlat))\n",
    "\n",
    "# extract time as datetime object, then convert to Matlab datenum\n",
    "elist = tree.xpath('./def:trk//def:trkpt//def:time',namespaces=namespace)\n",
    "fmt = '%Y-%m-%dT%H:%M:%S-04:00' #2017-05-04T14:14:12-04:00\n",
    "time = [dt.datetime.strptime(e.text, fmt) for e in elist]\n",
    "dn = np.zeros((len(lon)))\n",
    "for i in range(len(time)):\n",
    "   dn[i] = datetime2matlabdn(time[i])\n",
    "print(time[0],time[-1],dn[0],dn[-1], np.shape(time))\n",
    "\n",
    "# The same thing works for other elements in a trkpt\n",
    "elist = tree.xpath('./def:trk//def:trkpt//def:ele',namespaces=namespace)\n",
    "ele = np.array([float(e.text) for e in elist])\n",
    "print(ele[0], np.shape(ele))\n",
    "print(np.shape(elist))\n",
    "\n",
    "elist = tree.xpath('./def:trk//def:trkpt//def:ele2',namespaces=namespace)\n",
    "ele2 = np.array([float(e.text) for e in elist])\n",
    "print(ele2[0], np.shape(ele2))\n",
    "print(np.shape(elist))\n",
    "\n",
    "elist = tree.xpath('./def:trk//def:trkpt//def:course',namespaces=namespace)\n",
    "course = np.array([float(e.text) for e in elist])\n",
    "print(\"course: {}\".format(course[0]), np.shape(ele2))\n",
    "print(np.shape(elist))\n",
    "\n",
    "elist = tree.xpath('./def:trk//def:trkpt//def:roll',namespaces=namespace)\n",
    "roll = np.array([float(e.text) for e in elist])\n",
    "print(\"roll: {}\".format(roll[0]), np.shape(ele2))\n",
    "print(np.shape(elist))\n",
    "\n",
    "elist = tree.xpath('./def:trk//def:trkpt//def:pitch',namespaces=namespace)\n",
    "pitch = np.array([float(e.text) for e in elist])\n",
    "print(\"pitch: {}\".format(pitch[0]), np.shape(ele2))\n",
    "print(np.shape(elist))\n",
    "\n",
    "elist = tree.xpath('./def:trk//def:trkpt//def:mode',namespaces=namespace)\n",
    "mode = [e.text for e in elist]\n",
    "print(\"mode: {}\".format(mode[0]), np.shape(ele2))\n",
    "print(np.shape(elist))\n",
    "\n",
    "#TODO - make sure all of those arrays are the same length\n",
    "\n",
    "# make a bare-bones trackline plot\n",
    "plt.plot(lonlat[:,1],lonlat[:,0],'.')\n",
    "plt.show()\n",
    "\n",
    "# print a few of the data extracted from .gpx file\n",
    "for i in range(10):\n",
    "    print(\"{}, {}, {}, {}, {}, {}, {}, {}, {}, {}\".format(time[i],dn[i],lonlat[i,0],lonlat[i,1],ele[i],ele2[i],course[i],roll[i],pitch[i],mode[i]))\n",
    "\n",
    "# For each images, read time, add offset, get interpolated GPS info"
   ]
  },
  {
   "cell_type": "markdown",
   "metadata": {},
   "source": [
    "#### Loop through all of the images, grab time, and interpolate time from other arrays"
   ]
  },
  {
   "cell_type": "code",
   "execution_count": 27,
   "metadata": {
    "collapsed": false
   },
   "outputs": [
    {
     "name": "stdout",
     "output_type": "stream",
     "text": [
      "Found 232 images in H:\\2017-06-12_Duck_UAS\\jpeg\\f5.\n"
     ]
    }
   ],
   "source": [
    "# get a list of image files\n",
    "flist=[os.path.join(imagefolder,f) for f in os.listdir(imagefolder) if ( f.endswith('.jpg') or f.endswith('.JPG'))]\n",
    "nfiles = len(flist)\n",
    "print(\"Found {} images in {}.\".format(nfiles,imagefolder))"
   ]
  },
  {
   "cell_type": "code",
   "execution_count": 25,
   "metadata": {
    "collapsed": false
   },
   "outputs": [],
   "source": [
    "# format for interpreting datetime\n",
    "#TODO - figure out how to handle time zone\n",
    "fmt = '%Y:%m:%d %H:%M:%S' #2017-05-04T14:14:12-04:00\n",
    "\n",
    "fnames = []\n",
    "ftimes = np.zeros(nfiles)\n",
    "\n",
    "i=0\n",
    "for f in flist:\n",
    "    # read and print the time stamp\n",
    "    t=dt.datetime.strptime(Image.open(f)._getexif()[36867], fmt)\n",
    "    #fnames[i]=f\n",
    "    ftimes[i]=datetime2matlabdn(t)\n",
    "    i+=1\n"
   ]
  },
  {
   "cell_type": "code",
   "execution_count": null,
   "metadata": {
    "collapsed": true
   },
   "outputs": [],
   "source": []
  }
 ],
 "metadata": {
  "kernelspec": {
   "display_name": "Python 2",
   "language": "python",
   "name": "python2"
  },
  "language_info": {
   "codemirror_mode": {
    "name": "ipython",
    "version": 2
   },
   "file_extension": ".py",
   "mimetype": "text/x-python",
   "name": "python",
   "nbconvert_exporter": "python",
   "pygments_lexer": "ipython2",
   "version": "2.7.12"
  }
 },
 "nbformat": 4,
 "nbformat_minor": 1
}

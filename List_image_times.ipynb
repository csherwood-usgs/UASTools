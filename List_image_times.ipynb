{
 "cells": [
  {
   "cell_type": "markdown",
   "metadata": {
    "deletable": true,
    "editable": true
   },
   "source": [
    "#### Import packages and define the namespace for the GPX schema\n",
    "\n",
    "If you get an error here, you will have to add packages to your Python distribution"
   ]
  },
  {
   "cell_type": "code",
   "execution_count": 1,
   "metadata": {
    "collapsed": true,
    "deletable": true,
    "editable": true
   },
   "outputs": [],
   "source": [
    "import matplotlib.pyplot as plt\n",
    "import numpy as np\n",
    "import os\n",
    "import copy\n",
    "from scipy.interpolate import interp1d\n",
    "from PIL import Image, ExifTags\n",
    "import datetime as dt\n",
    "import pandas as pd\n",
    "from lxml import etree\n",
    "%matplotlib inline\n",
    "\n",
    "# This is where the elements of the xml (gpx) file are defined\n",
    "namespace = {'def': 'http://www.topografix.com/GPX/1/1'}"
   ]
  },
  {
   "cell_type": "markdown",
   "metadata": {
    "deletable": true,
    "editable": true
   },
   "source": [
    "#### All of the user input comes in this cell\n",
    "TODO: add prompts for file/folder names, rather than editing here"
   ]
  },
  {
   "cell_type": "code",
   "execution_count": 2,
   "metadata": {
    "collapsed": false,
    "deletable": true,
    "editable": true
   },
   "outputs": [],
   "source": [
    "# User input\n",
    "# Enter name of .gpx file\n",
    "logfile = 'G:\\\\2017-06-12_Duck_UAS\\\\gpx\\\\f5.gpx'\n",
    "\n",
    "# Enter folder with associated images\n",
    "imagefolder = 'G:\\\\2017-06-12_Duck_UAS\\\\jpeg\\\\f5'\n",
    "\n",
    "# Enter time offset (seconds) so that imagetime + offset = log time\n",
    "toff = -4.*3600. # The GPS data is being read in local time, the images are stamped with UTC"
   ]
  },
  {
   "cell_type": "markdown",
   "metadata": {
    "deletable": true,
    "editable": true
   },
   "source": [
    "#### Define two functions to convert back and forth from Python datetime to Matlab datenum\n",
    "Alternatively, I could learn how to use datetime\n"
   ]
  },
  {
   "cell_type": "code",
   "execution_count": 3,
   "metadata": {
    "collapsed": false,
    "deletable": true,
    "editable": true
   },
   "outputs": [
    {
     "name": "stdout",
     "output_type": "stream",
     "text": [
      "2012-02-13 06:56:02.618997 734912.2889192014 734912.2889192014\n",
      "2012-02-13 07:01:02.619000\n"
     ]
    }
   ],
   "source": [
    "# routines to convert back and forth from datetime to Matlab datenum\n",
    "def matlabdn2datetime(dn):\n",
    "    \"\"\"\n",
    "    Input: Matlab datenum\n",
    "    Returns: datetime   \n",
    "    http://stackoverflow.com/questions/13965740/converting-matlabs-datenum-format-to-python\n",
    "    \"\"\"\n",
    "    day = dt.datetime.fromordinal(int(dn))\n",
    "    dayfrac = dt.timedelta(days=dn%1) - dt.timedelta(days = 366)\n",
    "    return day + dayfrac\n",
    "\n",
    "def datetime2matlabdn(dtn):\n",
    "    \"\"\"\n",
    "    Input: datetime\n",
    "    Returns: Matlab datenum  \n",
    "    http://stackoverflow.com/questions/8776414/python-datetime-to-matlab-datenum\n",
    "    \"\"\"\n",
    "    mdn = dtn + dt.timedelta(days = 366)\n",
    "    frac_seconds = (dtn-dt.datetime(dtn.year,dtn.month,dtn.day,0,0,0)).seconds / (24.0 * 60.0 * 60.0)\n",
    "    frac_microseconds = dtn.microsecond / (24.0 * 60.0 * 60.0 * 1000000.0)\n",
    "    return mdn.toordinal() + frac_seconds + frac_microseconds\n",
    "\n",
    "# examples\n",
    "dtn=dt.datetime(2012, 2, 13, 6, 56, 2, 619000)\n",
    "dn1=datetime2matlabdn(dtn)\n",
    "dtn2 = matlabdn2datetime(dn1)\n",
    "dn2 =datetime2matlabdn(dtn2)\n",
    "print(dtn2,dn1,dn2)\n",
    "print(dtn+dt.timedelta(minutes=5.))"
   ]
  },
  {
   "cell_type": "markdown",
   "metadata": {
    "deletable": true,
    "editable": true
   },
   "source": [
    "### Parse the  .gpx file written by MissionPlanner, making arrays of time (in Matlab datenum representation)\n",
    "...and the other stuff we want to use"
   ]
  },
  {
   "cell_type": "code",
   "execution_count": 4,
   "metadata": {
    "collapsed": false,
    "deletable": true,
    "editable": true,
    "scrolled": true
   },
   "outputs": [
    {
     "name": "stdout",
     "output_type": "stream",
     "text": [
      "[ 36.1810293 -75.7552479] 36.1810293 -75.7552479\n",
      "(4860, 2)\n",
      "2017-06-12 14:23:18 2017-06-12 14:40:03 736858.599514 736858.611146 (4860,)\n",
      "-0.71 (4860,)\n",
      "(4860, 0)\n",
      "-0.24 (4860,)\n",
      "(4860, 0)\n",
      "course: 0.0 (4860,)\n",
      "(4860, 0)\n",
      "roll: 0.0 (4860,)\n",
      "(4860, 0)\n",
      "pitch: 0.0 (4860,)\n",
      "(4860, 0)\n",
      "mode: Loiter (4860,)\n",
      "(4860, 0)\n"
     ]
    },
    {
     "data": {
      "image/png": "[encoded data removed]",
      "text/plain": [
       "<matplotlib.figure.Figure at 0xa9cb0b8>"
      ]
     },
     "metadata": {},
     "output_type": "display_data"
    },
    {
     "name": "stdout",
     "output_type": "stream",
     "text": [
      "2017-06-12 14:23:18, 736858.5995138889, 36.1810293, -75.7552479, -0.71, -0.24, 0.0, 0.0, 0.0, Loiter\n",
      "2017-06-12 14:23:18, 736858.5995138889, 36.1810294, -75.7552479, -0.7, -0.23, 340.7037, -1.265236, 2.383145, Loiter\n",
      "2017-06-12 14:29:58, 736858.6041435185, 36.1810294, -75.755248, -0.7, -0.23, 340.6925, -1.266573, 2.377564, Loiter\n",
      "2017-06-12 14:29:58, 736858.6041435185, 36.1810294, -75.7552479, -0.68, -0.21, 340.6851, -1.264506, 2.378118, Loiter\n",
      "2017-06-12 14:29:58, 736858.6041435185, 36.1810295, -75.755248, -0.68, -0.21, 340.6866, -1.264782, 2.371143, Loiter\n",
      "2017-06-12 14:29:59, 736858.6041550926, 36.1810295, -75.7552479, -0.67, -0.2, 340.6675, -1.27157, 2.368215, Loiter\n",
      "2017-06-12 14:29:59, 736858.6041550926, 36.1810296, -75.755248, -0.67, -0.2, 340.656, -1.26118, 2.370797, Loiter\n",
      "2017-06-12 14:30:01, 736858.6041782408, 36.1810297, -75.755248, -0.63, -0.16, 340.6332, -1.258554, 2.370206, Loiter\n",
      "2017-06-12 14:30:02, 736858.6041898148, 36.1810296, -75.7552479, -0.64, -0.17, 340.6247, -1.26225, 2.371711, Loiter\n",
      "2017-06-12 14:30:02, 736858.6041898148, 36.1810297, -75.755248, -0.64, -0.17, 340.6178, -1.256154, 2.370396, Loiter\n"
     ]
    }
   ],
   "source": [
    "# Parse .gpx\n",
    "tree = etree.parse(logfile)\n",
    "\n",
    "# Extract componeents from the trackpoints (ignore the waypoints)\n",
    "# latitude and longitude\n",
    "elist = tree.xpath('./def:trk//def:trkpt',namespaces=namespace)\n",
    "lonlat = [e.values() for e in elist]\n",
    "lonlat = np.array(lonlat,dtype=\"float\")\n",
    "lat = lonlat[:,0]\n",
    "lon = lonlat[:,1]\n",
    "#TODO Remove these extraneous print statements\n",
    "print(lonlat[0],lat[0],lon[0])\n",
    "print(np.shape(lonlat))\n",
    "\n",
    "# extract time as datetime object, then convert to Matlab datenum\n",
    "elist = tree.xpath('./def:trk//def:trkpt//def:time',namespaces=namespace)\n",
    "fmt = '%Y-%m-%dT%H:%M:%S-04:00' #2017-05-04T14:14:12-04:00\n",
    "time = [dt.datetime.strptime(e.text, fmt) for e in elist]\n",
    "dn = np.zeros((len(lon)))\n",
    "for i in range(len(time)):\n",
    "   dn[i] = datetime2matlabdn(time[i])\n",
    "print(time[0],time[-1],dn[0],dn[-1], np.shape(time))\n",
    "\n",
    "# The same thing works for other elements in a trkpt\n",
    "elist = tree.xpath('./def:trk//def:trkpt//def:ele',namespaces=namespace)\n",
    "ele = np.array([float(e.text) for e in elist])\n",
    "print(ele[0], np.shape(ele))\n",
    "print(np.shape(elist))\n",
    "\n",
    "elist = tree.xpath('./def:trk//def:trkpt//def:ele2',namespaces=namespace)\n",
    "ele2 = np.array([float(e.text) for e in elist])\n",
    "print(ele2[0], np.shape(ele2))\n",
    "print(np.shape(elist))\n",
    "\n",
    "elist = tree.xpath('./def:trk//def:trkpt//def:course',namespaces=namespace)\n",
    "course = np.array([float(e.text) for e in elist])\n",
    "print(\"course: {}\".format(course[0]), np.shape(ele2))\n",
    "print(np.shape(elist))\n",
    "\n",
    "elist = tree.xpath('./def:trk//def:trkpt//def:roll',namespaces=namespace)\n",
    "roll = np.array([float(e.text) for e in elist])\n",
    "print(\"roll: {}\".format(roll[0]), np.shape(ele2))\n",
    "print(np.shape(elist))\n",
    "\n",
    "elist = tree.xpath('./def:trk//def:trkpt//def:pitch',namespaces=namespace)\n",
    "pitch = np.array([float(e.text) for e in elist])\n",
    "print(\"pitch: {}\".format(pitch[0]), np.shape(ele2))\n",
    "print(np.shape(elist))\n",
    "\n",
    "elist = tree.xpath('./def:trk//def:trkpt//def:mode',namespaces=namespace)\n",
    "mode = [e.text for e in elist]\n",
    "print(\"mode: {}\".format(mode[0]), np.shape(ele2))\n",
    "print(np.shape(elist))\n",
    "\n",
    "#TODO - make sure all of those arrays are the same length\n",
    "\n",
    "# make a bare-bones trackline plot\n",
    "plt.plot(lonlat[:,1],lonlat[:,0],'.')\n",
    "plt.show()\n",
    "\n",
    "# print a few of the data extracted from .gpx file\n",
    "for i in range(10):\n",
    "    print(\"{}, {}, {}, {}, {}, {}, {}, {}, {}, {}\".format(time[i],dn[i],lonlat[i,0],lonlat[i,1],ele[i],ele2[i],course[i],roll[i],pitch[i],mode[i]))\n",
    "\n",
    "# For each images, read time, add offset, get interpolated GPS info"
   ]
  },
  {
   "cell_type": "markdown",
   "metadata": {
    "deletable": true,
    "editable": true
   },
   "source": [
    "#### Loop through all of the images, grab time, and interpolate time from other arrays"
   ]
  },
  {
   "cell_type": "code",
   "execution_count": 5,
   "metadata": {
    "collapsed": false,
    "deletable": true,
    "editable": true
   },
   "outputs": [
    {
     "name": "stdout",
     "output_type": "stream",
     "text": [
      "Found 232 images in G:\\2017-06-12_Duck_UAS\\jpeg\\f5.\n"
     ]
    }
   ],
   "source": [
    "# get a list of image files\n",
    "flist=[os.path.join(imagefolder,f) for f in os.listdir(imagefolder) if ( f.endswith('.jpg') or f.endswith('.JPG'))]\n",
    "nfiles = len(flist)\n",
    "print(\"Found {} images in {}.\".format(nfiles,imagefolder))"
   ]
  },
  {
   "cell_type": "code",
   "execution_count": 6,
   "metadata": {
    "collapsed": false
   },
   "outputs": [
    {
     "name": "stdout",
     "output_type": "stream",
     "text": [
      "G:\\2017-06-12_Duck_UAS\\jpeg\\f5\\B0007951.JPG, 2017-06-12 14:32:17, 736858.6057523148\n",
      "G:\\2017-06-12_Duck_UAS\\jpeg\\f5\\B0008182.JPG, 2017-06-12 14:39:59, 736858.611099537\n",
      "G:\\2017-06-12_Duck_UAS\\gpx\\f5.gpx from 2017-06-12 14:23:18 736858.5995138889 to 2017-06-12 14:40:03 736858.6111458334\n"
     ]
    }
   ],
   "source": [
    "# format for interpreting datetime\n",
    "# TODO - figure out how to handle time zone\n",
    "fmt = '%Y:%m:%d %H:%M:%S' #2017-05-04T14:14:12-04:00\n",
    "\n",
    "img_name = [] # list of file names\n",
    "img_dt = []   # array of datetime objs\n",
    "img_dn = []   # array of Matlab times\n",
    "for f in flist:\n",
    "    # read the image time stamps and add the time correction toff\n",
    "    t=dt.datetime.strptime(Image.open(f)._getexif()[36867], fmt)+\\\n",
    "        dt.timedelta(seconds=toff)\n",
    "    img_name.append(copy.copy(f))\n",
    "    img_dt.append(copy.copy(t))\n",
    "    img_dn.append(copy.copy(datetime2matlabdn(t)))\n",
    "\n",
    "# print first and last image name and times\n",
    "print(\"{}, {}, {}\".format(img_name[0],img_dt[0],img_dn[0]))\n",
    "print(\"{}, {}, {}\".format(img_name[-1],img_dt[-1],img_dn[-1]))\n",
    "# print first and last times in .gpx file\n",
    "print(\"{} from {} {} to {} {}\".format(logfile,time[0],dn[0],time[-1],dn[-1]))"
   ]
  },
  {
   "cell_type": "code",
   "execution_count": 7,
   "metadata": {
    "collapsed": false
   },
   "outputs": [
    {
     "name": "stdout",
     "output_type": "stream",
     "text": [
      "(3, 4860) (4860,)\n"
     ]
    }
   ],
   "source": [
    "# array for storing lat, lon, and elevation for each image\n",
    "img_data = np.ones((3,len(img_name)))*np.NaN   \n",
    "# combine .gpx data into one array\n",
    "# TODO: the heading, pitch, and roll data could be included as well\n",
    "data = np.zeros((3,(len(dn))))\n",
    "data[0,:]=lat\n",
    "data[1,:]=lon\n",
    "data[2,:]=ele\n",
    "print(np.shape(data),np.shape(dn))"
   ]
  },
  {
   "cell_type": "code",
   "execution_count": 9,
   "metadata": {
    "collapsed": false,
    "deletable": true,
    "editable": true
   },
   "outputs": [
    {
     "data": {
      "image/png": "[encoded data removed]",
      "text/plain": [
       "<matplotlib.figure.Figure at 0xb03b320>"
      ]
     },
     "metadata": {},
     "output_type": "display_data"
    },
    {
     "name": "stdout",
     "output_type": "stream",
     "text": [
      "G:\\2017-06-12_Duck_UAS\\jpeg\\f5\\B0007951.JPG, 2017-06-12 14:32:17, 36.1810021, -75.7552389\n",
      "G:\\2017-06-12_Duck_UAS\\jpeg\\f5\\B0007952.JPG, 2017-06-12 14:32:19, 36.1810027, -75.7552392\n",
      "G:\\2017-06-12_Duck_UAS\\jpeg\\f5\\B0007953.JPG, 2017-06-12 14:32:21, 36.1810029, -75.7552396\n",
      "G:\\2017-06-12_Duck_UAS\\jpeg\\f5\\B0007954.JPG, 2017-06-12 14:32:23, 36.1810053, -75.7552365\n",
      "G:\\2017-06-12_Duck_UAS\\jpeg\\f5\\B0007955.JPG, 2017-06-12 14:32:25, 36.1810126, -75.7552302\n",
      "G:\\2017-06-12_Duck_UAS\\jpeg\\f5\\B0007956.JPG, 2017-06-12 14:32:27, 36.1810198, -75.7552268\n",
      "G:\\2017-06-12_Duck_UAS\\jpeg\\f5\\B0007957.JPG, 2017-06-12 14:32:29, 36.1810324, -75.7552217\n",
      "G:\\2017-06-12_Duck_UAS\\jpeg\\f5\\B0007958.JPG, 2017-06-12 14:32:31, 36.1810444, -75.7552176\n",
      "G:\\2017-06-12_Duck_UAS\\jpeg\\f5\\B0007959.JPG, 2017-06-12 14:32:33, 36.1810562, -75.7552108\n",
      "G:\\2017-06-12_Duck_UAS\\jpeg\\f5\\B0007960.JPG, 2017-06-12 14:32:35, 36.1810618, -75.755208\n"
     ]
    }
   ],
   "source": [
    "# set up interpolation\n",
    "set_interp = interp1d(dn, data, kind='linear')\n",
    "# loop through the images and interpolate .gpx data \n",
    "for i in range(len(img_name)):\n",
    "    if( img_dn[i]>=dn[0] and img_dn[i]<=dn[-1] ):\n",
    "        # image time is within bounds of .gpx data\n",
    "        img_data[:,i] = set_interp(img_dn[i])\n",
    "    else:\n",
    "        # image time is not within .gpx data\n",
    "        print('No GPS data for {} {}'.format(img_name[i],img_dt[i]))\n",
    "\n",
    "        \n",
    "# make a bare-bones trackline and overlay image locations\n",
    "plt.plot(lon[:],lat[:],'-')\n",
    "plt.plot(data[1,:],data[0,:],'.r')\n",
    "plt.show()\n",
    "# print out file name, time, and data\n",
    "# TODO - write a .csv file with columns in the in the correct order for Photoscan\n",
    "for i in range(10):\n",
    "    print(\"{}, {}, {}, {}\".format(img_name[i],img_dt[i],img_data[0,i],img_data[1,i],img_data[2,i]))"
   ]
  },
  {
   "cell_type": "code",
   "execution_count": null,
   "metadata": {
    "collapsed": true,
    "deletable": true,
    "editable": true
   },
   "outputs": [],
   "source": []
  }
 ],
 "metadata": {
  "kernelspec": {
   "display_name": "Python [conda env:IOOS3]",
   "language": "python",
   "name": "conda-env-IOOS3-py"
  },
  "language_info": {
   "codemirror_mode": {
    "name": "ipython",
    "version": 3
   },
   "file_extension": ".py",
   "mimetype": "text/x-python",
   "name": "python",
   "nbconvert_exporter": "python",
   "pygments_lexer": "ipython3",
   "version": "3.6.0"
  }
 },
 "nbformat": 4,
 "nbformat_minor": 1
}

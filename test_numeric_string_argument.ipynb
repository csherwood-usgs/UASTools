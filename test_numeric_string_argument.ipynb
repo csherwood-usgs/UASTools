{
 "cells": [
  {
   "cell_type": "code",
   "execution_count": 12,
   "metadata": {},
   "outputs": [
    {
     "name": "stdout",
     "output_type": "stream",
     "text": [
      "True 0.5\n",
      "True 0.5\n",
      "False 0.4\n",
      "False 0.6\n"
     ]
    }
   ],
   "source": [
    "import numpy as np\n",
    "\n",
    "def trim(dem, thresh = 'auto'):\n",
    "    use_auto = False\n",
    "    t = 0.5\n",
    "    try:\n",
    "        x = 5.+thresh\n",
    "        t = thresh\n",
    "    except:\n",
    "        use_auto = True\n",
    "\n",
    "    print(use_auto,t)\n",
    "\n",
    "dem = np.zeros((5,5))\n",
    "\n",
    "# a few test cases\n",
    "trim(dem)\n",
    "\n",
    "trim(dem,'auto')\n",
    "\n",
    "trim(dem,.4)\n",
    "\n",
    "trim(dem,6e-1)"
   ]
  },
  {
   "cell_type": "code",
   "execution_count": null,
   "metadata": {},
   "outputs": [],
   "source": []
  }
 ],
 "metadata": {
  "kernelspec": {
   "display_name": "Python 3",
   "language": "python",
   "name": "python3"
  },
  "language_info": {
   "codemirror_mode": {
    "name": "ipython",
    "version": 3
   },
   "file_extension": ".py",
   "mimetype": "text/x-python",
   "name": "python",
   "nbconvert_exporter": "python",
   "pygments_lexer": "ipython3",
   "version": "3.7.6"
  }
 },
 "nbformat": 4,
 "nbformat_minor": 4
}

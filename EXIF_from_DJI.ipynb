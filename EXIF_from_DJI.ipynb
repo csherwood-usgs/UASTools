{
 "cells": [
  {
   "cell_type": "markdown",
   "metadata": {},
   "source": [
    "### EXIF from DJI\n",
    "\n",
    "Test snippets for reading EXIF from a directory of images. This version also reads the DJI-specific metadata from the XMP portion of the record.\n",
    "Read all of the files in a directory and generate a .csv file with name, lat, lon, altitude\n",
    "\n",
    "Part of this was adapted from https://www.codingforentrepreneurs.com/blog/extract-gps-exif-images-python/"
   ]
  },
  {
   "cell_type": "code",
   "execution_count": 1,
   "metadata": {},
   "outputs": [],
   "source": [
    "import sys\n",
    "#import glob\n",
    "import os\n",
    "#from os.path import isfile, join, basename\n",
    "#from os import listdir\n",
    "import numpy as np\n",
    "\n",
    "# EXIF Reader\n",
    "from PIL import Image\n",
    "from PIL.ExifTags import TAGS, GPSTAGS"
   ]
  },
  {
   "cell_type": "code",
   "execution_count": 2,
   "metadata": {},
   "outputs": [],
   "source": [
    "def get_exif_data(imgpath):\n",
    "    \"\"\"\n",
    "    Returns a dictionary from the exif data of an PIL Image item. Also converts the GPS Tags\n",
    "    https://www.codingforentrepreneurs.com/blog/extract-gps-exif-images-python/\n",
    "    \"\"\"    \n",
    "    exif_data = {}\n",
    "    image=Image.open(imgpath)\n",
    "    info = image._getexif()\n",
    "    if info:\n",
    "        for tag, value in info.items():\n",
    "            decoded = TAGS.get(tag, tag)\n",
    "            if decoded == \"GPSInfo\":\n",
    "                gps_data = {}\n",
    "                for t in value:\n",
    "                    sub_decoded = GPSTAGS.get(t, t)\n",
    "                    gps_data[sub_decoded] = value[t]\n",
    "\n",
    "                exif_data[decoded] = gps_data\n",
    "            else:\n",
    "                exif_data[decoded] = value\n",
    "    return exif_data"
   ]
  },
  {
   "cell_type": "code",
   "execution_count": 3,
   "metadata": {},
   "outputs": [],
   "source": [
    "def latlon_from_gps_data(gps_data):\n",
    "    try: \n",
    "        v = gps_data['GPSLatitude']\n",
    "        lat = float(v[0][0])/float(v[0][1])+\\\n",
    "        (1./60.)*float(v[1][0])/float(v[1][1])+\\\n",
    "        (1./3600.)*float(v[2][0])/float(v[2][1])\n",
    "        if gps_data['GPSLatitudeRef']=='S':\n",
    "            lat = -1.*lat\n",
    "\n",
    "        v = gps_data['GPSLongitude'] \n",
    "        lon = float(v[0][0])/float(v[0][1])+\\\n",
    "        (1./60.)*float(v[1][0])/float(v[1][1])+\\\n",
    "        (1./3600.)*float(v[2][0])/float(v[2][1])\n",
    "        if gps_data['GPSLongitudeRef']=='W':\n",
    "            lon = -1.*lon           \n",
    "        try:\n",
    "            v = gps_data['GPSAltitude']\n",
    "            alt = float(v[0])/float(v[1])\n",
    "        except:\n",
    "            alt=np.nap\n",
    "            \n",
    "        return lat, lon, alt\n",
    "    \n",
    "    except:\n",
    "        return np.nan, np.nan, np.nan\n",
    "\n",
    "def get_gps_data(i):\n",
    "    info = i._getexif()\n",
    "    exif_data={}\n",
    "    lat = np.nan\n",
    "    lon = np.nan\n",
    "    alt = np.nan\n",
    "    if info:\n",
    "        for tag, value in info.items():\n",
    "            decoded = TAGS.get(tag, tag)\n",
    "            if decoded == \"GPSInfo\":\n",
    "                gps_data = {}\n",
    "                for t in value:\n",
    "                    sub_decoded = GPSTAGS.get(t, t)\n",
    "                    gps_data[sub_decoded] = value[t]\n",
    "                lat,lon,alt=latlon_from_gps_data(gps_data)\n",
    "    else:\n",
    "        print('Could not find EXIF data in ',filepath)\n",
    "        \n",
    "    return lat,lon,alt"
   ]
  },
  {
   "cell_type": "code",
   "execution_count": 4,
   "metadata": {},
   "outputs": [
    {
     "name": "stdout",
     "output_type": "stream",
     "text": [
      "DJI_0012.JPG,41.76829936,-70.48680300,154.170\n",
      "dict_keys(['GPSInfo', 'ResolutionUnit', 'ExifOffset', 'ImageDescription', 'Make', 'Model', 'Software', 'Orientation', 'DateTime', 'YCbCrPositioning', 'XResolution', 'YResolution', 'XPComment', 'XPKeywords', 'ExifVersion', 'ComponentsConfiguration', 'CompressedBitsPerPixel', 'DateTimeOriginal', 'DateTimeDigitized', 'ShutterSpeedValue', 'ApertureValue', 'ExposureBiasValue', 'MaxApertureValue', 'SubjectDistance', 'MeteringMode', 'LightSource', 'Flash', 'FocalLength', 'ColorSpace', 'ExifImageWidth', 'ExifImageHeight', 'Contrast', 'Saturation', 'Sharpness', 'DeviceSettingDescription', 'ExposureIndex', 'FileSource', 'ExposureTime', 'ExifInteroperabilityOffset', 'FNumber', 'SceneType', 'ExposureProgram', 'CustomRendered', 'ISOSpeedRatings', 'ExposureMode', 'FlashPixVersion', 'WhiteBalance', 'DigitalZoomRatio', 'FocalLengthIn35mmFilm', 'SceneCaptureType', 'GainControl', 'SubjectDistanceRange', 'MakerNote'])\n"
     ]
    }
   ],
   "source": [
    "#dn = 'C:/crs/proj/2015_Sandwich/2016-02-11_PT_images/down/'\n",
    "path = r\".\"\n",
    "file = 'DJI_0012.JPG'\n",
    "\n",
    "i = Image.open(os.path.join(path,file))\n",
    "if i:\n",
    "    lat,lon,alt = get_gps_data(i)\n",
    "    print('{0},{1:.8f},{2:.8f},{3:.3f}'.format(file,lat,lon,alt))\n",
    "\n",
    "else:\n",
    "    print('Could not open ',dn+file)\n",
    "    \n",
    "exif_info = get_exif_data(os.path.join(path,file))\n",
    "print(exif_info.keys())"
   ]
  },
  {
   "cell_type": "code",
   "execution_count": 5,
   "metadata": {},
   "outputs": [
    {
     "data": {
      "text/plain": [
       "{'ApertureValue': (200, 100),\n",
       " 'ColorSpace': 1,\n",
       " 'ComponentsConfiguration': b'\\x00\\x03\\x02\\x01',\n",
       " 'CompressedBitsPerPixel': (4771690, 1500000),\n",
       " 'Contrast': 0,\n",
       " 'CustomRendered': 0,\n",
       " 'DateTime': '2017:01:09 12:48:27',\n",
       " 'DateTimeDigitized': '2017:01:09 12:48:27',\n",
       " 'DateTimeOriginal': '2017:01:09 12:48:27',\n",
       " 'DeviceSettingDescription': b'\\x00\\x00\\x00\\x00',\n",
       " 'DigitalZoomRatio': (0, 0),\n",
       " 'ExifImageHeight': 3000,\n",
       " 'ExifImageWidth': 4000,\n",
       " 'ExifInteroperabilityOffset': 656,\n",
       " 'ExifOffset': 182,\n",
       " 'ExifVersion': b'0230',\n",
       " 'ExposureBiasValue': (0, 32),\n",
       " 'ExposureIndex': (0, 0),\n",
       " 'ExposureMode': 0,\n",
       " 'ExposureProgram': 2,\n",
       " 'ExposureTime': (460, 1000000),\n",
       " 'FNumber': (280, 100),\n",
       " 'FileSource': b'\\x03',\n",
       " 'Flash': 32,\n",
       " 'FlashPixVersion': b'0010',\n",
       " 'FocalLength': (361, 100),\n",
       " 'FocalLengthIn35mmFilm': 20,\n",
       " 'GPSInfo': {'GPSAltitude': (154170, 1000),\n",
       "  'GPSAltitudeRef': b'\\x01',\n",
       "  'GPSLatitude': ((41, 1), (46, 1), (58777, 10000)),\n",
       "  'GPSLatitudeRef': 'N',\n",
       "  'GPSLongitude': ((70, 1), (29, 1), (124908, 10000)),\n",
       "  'GPSLongitudeRef': 'W',\n",
       "  'GPSVersionID': b'\\x03\\x02\\x00\\x00'},\n",
       " 'GainControl': 0,\n",
       " 'ISOSpeedRatings': 100,\n",
       " 'ImageDescription': 'DCIM\\\\100MEDIA\\\\DJI_0012.JPG',\n",
       " 'LightSource': 0,\n",
       " 'Make': 'DJI\\x00\\x00\\x00\\x00\\x00\\x00\\x00\\x00\\x00\\x00\\x00\\x00\\x00\\x00\\x00\\x00\\x00\\x00\\x00\\x00\\x00\\x00\\x00\\x00\\x00\\x00',\n",
       " 'MakerNote': b'\\x0b\\x00\\x01\\x00\\x02\\x00\\x04\\x00\\x00\\x00DJI\\x00\\x02\\x00\\x01\\x00\\x04\\x00\\x00\\x00\\x01\\x00\\x00\\x00\\x03\\x00\\x0b\\x00\\x01\\x00\\x00\\x00\\xcd\\xcc\\xbc\\xc0\\x04\\x00\\x0b\\x00\\x01\\x00\\x00\\x00\\x9a\\x99\\x01A\\x05\\x00\\x0b\\x00\\x01\\x00\\x00\\x00\\x00\\x00\\x00\\x00\\x06\\x00\\x0b\\x00\\x01\\x00\\x00\\x00\\xcd\\xcc\\x8c\\xc1\\x07\\x00\\x0b\\x00\\x01\\x00\\x00\\x00ff\\xf5B\\x08\\x00\\x0b\\x00\\x01\\x00\\x00\\x0033\\xb3?\\t\\x00\\x0b\\x00\\x01\\x00\\x00\\x00\\x00\\x00\\xb4\\xc2\\n\\x00\\x0b\\x00\\x01\\x00\\x00\\x00\\x00\\x00\\xfcB\\x0b\\x00\\x0b\\x00\\x01\\x00\\x00\\x00\\x00\\x00\\x00\\x00\\x00\\x00\\x00\\x00\\x00\\x00\\x00\\x00\\x00\\x00\\x00\\x00\\x00\\x00\\x00\\x00\\x00\\x00\\x00\\x00\\x00\\x00\\x00\\x00\\x00\\x00\\x00\\x00\\x00\\x00\\x00\\x00\\x00\\x00\\x00\\x00\\x00\\x00\\x00\\x00\\x00\\x00\\x00\\x00\\x00\\x00\\x00\\x00\\x00\\x00\\x00\\x00\\x00\\x00\\x00\\x00\\x00\\x00\\x00\\x00\\x00\\x00\\x00\\x00\\x00\\x00\\x00\\x00\\x00\\x00\\x00\\x00\\x00\\x00\\x00\\x00\\x00\\x00\\x00\\x00\\x00\\x00\\x00\\x00\\x00\\x00\\x00\\x00\\x00\\x00\\x00\\x00\\x00\\x00\\x00\\x00\\x00\\x00\\x00\\x00\\x00\\x00\\x00\\x00\\x00\\x00\\x00\\x00\\x00\\x00\\x00\\x00\\x00\\x00\\x00\\x00\\x00\\x00\\x00\\x00\\x00\\x00',\n",
       " 'MaxApertureValue': (200, 100),\n",
       " 'MeteringMode': 1,\n",
       " 'Model': 'FC300X\\x00\\x00\\x00\\x00\\x00\\x00\\x00\\x00\\x00\\x00\\x00\\x00\\x00\\x00\\x00\\x00\\x00\\x00\\x00\\x00\\x00\\x00\\x00',\n",
       " 'Orientation': 1,\n",
       " 'ResolutionUnit': 2,\n",
       " 'Saturation': 0,\n",
       " 'SceneCaptureType': 0,\n",
       " 'SceneType': b'\\x00',\n",
       " 'Sharpness': 0,\n",
       " 'ShutterSpeedValue': (-11085, -1000),\n",
       " 'Software': 'v01.30.5036\\x00\\x00\\x00\\x00\\x00\\x00\\x00\\x00\\x00\\x00\\x00\\x00',\n",
       " 'SubjectDistance': (0, 100),\n",
       " 'SubjectDistanceRange': 0,\n",
       " 'WhiteBalance': 0,\n",
       " 'XPComment': b'0\\x00.\\x009\\x00.\\x001\\x003\\x008\\x00\\x00\\x00\\x00\\x00\\x00\\x00\\x00\\x00\\x00\\x00\\x00\\x00\\x00\\x00\\x00\\x00\\x00\\x00\\x00\\x00\\x00\\x00\\x00\\x00\\x00\\x00\\x00\\x00\\x00\\x00\\x00\\x00\\x00\\x00\\x00\\x00\\x00\\x00\\x00\\x00\\x00\\x00\\x00\\x00\\x00\\x00\\x00\\x00\\x00\\x00\\x00\\x00\\x00\\x00\\x00\\x00\\x00\\x00\\x00\\x00\\x00\\x00\\x00\\x00\\x00\\x00\\x00\\x00\\x00\\x00\\x00\\x00\\x00\\x00\\x00\\x00\\x00\\x00\\x00\\x00\\x00\\x00\\x00\\x00\\x00\\x00\\x00\\x00\\x00\\x00\\x00\\x00\\x00\\x00\\x00\\x00\\x00\\x00\\x00\\x00\\x00\\x00\\x00\\x00\\x00\\x00\\x00\\x00\\x00\\x00\\x00\\x00\\x00\\x00',\n",
       " 'XPKeywords': b'N\\x00\\x00\\x00\\x00\\x00\\x00\\x00\\x00\\x00\\x00\\x00\\x00\\x00\\x00\\x00',\n",
       " 'XResolution': (72, 1),\n",
       " 'YCbCrPositioning': 1,\n",
       " 'YResolution': (72, 1)}"
      ]
     },
     "execution_count": 5,
     "metadata": {},
     "output_type": "execute_result"
    }
   ],
   "source": [
    "exif_info"
   ]
  },
  {
   "cell_type": "code",
   "execution_count": 6,
   "metadata": {},
   "outputs": [
    {
     "name": "stdout",
     "output_type": "stream",
     "text": [
      "<x:xmpmeta xmlns:x=\"adobe:ns:meta/\">\n",
      " <rdf:RDF xmlns:rdf=\"http://www.w3.org/1999/02/22-rdf-syntax-ns#\">\n",
      "  <rdf:Description rdf:about=\"DJI Meta Data\"\n",
      "    xmlns:tiff=\"http://ns.adobe.com/tiff/1.0/\"\n",
      "    xmlns:exif=\"http://ns.adobe.com/exif/1.0/\"\n",
      "    xmlns:xmp=\"http://ns.adobe.com/xap/1.0/\"\n",
      "    xmlns:xmpMM=\"http://ns.adobe.com/xap/1.0/mm/\"\n",
      "    xmlns:dc=\"http://purl.org/dc/elements/1.1/\"\n",
      "    xmlns:crs=\"http://ns.adobe.com/camera-raw-settings/1.0/\"\n",
      "    xmlns:drone-dji=\"http://www.dji.com/drone-dji/1.0/\"\n",
      "   xmp:ModifyDate=\"2017-01-09\"\n",
      "   xmp:CreateDate=\"2017-01-09\"\n",
      "   tiff:Make=\"DJI\"\n",
      "   tiff:Model=\"FC300X\"\n",
      "   dc:format=\"image/jpeg\"\n",
      "   drone-dji:AbsoluteAltitude=\"-154.17\"\n",
      "   drone-dji:RelativeAltitude=\"+70.40\"\n",
      "   drone-dji:GimbalRollDegree=\"+0.00\"\n",
      "   drone-dji:GimbalYawDegree=\"+126.00\"\n",
      "   drone-dji:GimbalPitchDegree=\"-90.00\"\n",
      "   drone-dji:FlightRollDegree=\"+1.40\"\n",
      "   drone-dji:FlightYawDegree=\"+122.70\"\n",
      "   drone-dji:FlightPitchDegree=\"-17.60\"\n",
      "   crs:Version=\"7.0\"\n",
      "   crs:HasSettings=\"False\"\n",
      "   crs:HasCrop=\"False\"\n",
      "   crs:AlreadyApplied=\"False\">\n",
      "  </rdf:Description>\n",
      " </rdf:RDF>\n",
      "</x:xmpmeta>\n"
     ]
    }
   ],
   "source": [
    "fd = open(file,'rb')\n",
    "d= fd.read()\n",
    "xmp_start = d.find(b'<x:xmpmeta')\n",
    "xmp_end = d.find(b'</x:xmpmeta')\n",
    "xmp_b = d[xmp_start:xmp_end+12]\n",
    "# print(type(xmp_b))\n",
    "# print(xmp_b)\n",
    "xmp_str = xmp_b.decode()\n",
    "print(xmp_str)"
   ]
  },
  {
   "cell_type": "code",
   "execution_count": 7,
   "metadata": {},
   "outputs": [
    {
     "name": "stdout",
     "output_type": "stream",
     "text": [
      "{'AbsoluteAltitude': -154.17, 'RelativeAltitude': 70.4, 'GimbalRollDegree': 0.0, 'GimbalYawDegree': 126.0, 'GimbalPitchDegree': -90.0, 'FlightRollDegree': 1.4, 'FlightYawDegree': 122.7, 'FlightPitchDegree': -17.6}\n"
     ]
    }
   ],
   "source": [
    "# List of DJI metadata labels we might want to grab\n",
    "djimeta=[\"AbsoluteAltitude\",\"RelativeAltitude\",\"GimbalRollDegree\",\"GimbalYawDegree\",\\\n",
    "         \"GimbalPitchDegree\",\"FlightRollDegree\",\"FlightYawDegree\",\"FlightPitchDegree\"]\n",
    "# parse the XMP string to grab the values\n",
    "xmp_dict={}\n",
    "for m in djimeta:\n",
    "    istart = xmp_str.find(m)\n",
    "    ss=xmp_str[istart:istart+len(m)+10]\n",
    "#     print(ss)\n",
    "#     print( ss.split('\"'))\n",
    "    val = float(ss.split('\"')[1])\n",
    "    xmp_dict.update({m : val})\n",
    "#    print(m,val)\n",
    "\n",
    "print(xmp_dict)"
   ]
  },
  {
   "cell_type": "code",
   "execution_count": 8,
   "metadata": {},
   "outputs": [],
   "source": [
    "def get_dji_meta( filepath ):\n",
    "    \"\"\"\n",
    "    Returns a dict with DJI-specific metadata stored in the XMB portion of the image\n",
    "    \"\"\"\n",
    "    \n",
    "    # list of metadata tags\n",
    "    djimeta=[\"AbsoluteAltitude\",\"RelativeAltitude\",\"GimbalRollDegree\",\"GimbalYawDegree\",\\\n",
    "         \"GimbalPitchDegree\",\"FlightRollDegree\",\"FlightYawDegree\",\"FlightPitchDegree\"]\n",
    "    \n",
    "    # read file in binary format and look for XMP metadata portion\n",
    "    fd = open(filepath,'rb')\n",
    "    d= fd.read()\n",
    "    xmp_start = d.find(b'<x:xmpmeta')\n",
    "    xmp_end = d.find(b'</x:xmpmeta')\n",
    "\n",
    "    # convert bytes to string\n",
    "    xmp_b = d[xmp_start:xmp_end+12]\n",
    "    xmp_str = xmp_b.decode()\n",
    "    \n",
    "    fd.close()\n",
    "    \n",
    "    # parse the XMP string to grab the values\n",
    "    xmp_dict={}\n",
    "    for m in djimeta:\n",
    "        istart = xmp_str.find(m)\n",
    "        ss=xmp_str[istart:istart+len(m)+10]\n",
    "        val = float(ss.split('\"')[1])\n",
    "        xmp_dict.update({m : val})\n",
    "        \n",
    "    return xmp_dict"
   ]
  },
  {
   "cell_type": "code",
   "execution_count": 9,
   "metadata": {},
   "outputs": [
    {
     "name": "stdout",
     "output_type": "stream",
     "text": [
      "{'AbsoluteAltitude': -154.17, 'RelativeAltitude': 70.4, 'GimbalRollDegree': 0.0, 'GimbalYawDegree': 126.0, 'GimbalPitchDegree': -90.0, 'FlightRollDegree': 1.4, 'FlightYawDegree': 122.7, 'FlightPitchDegree': -17.6}\n",
      "70.4\n"
     ]
    }
   ],
   "source": [
    "# test the function\n",
    "file = 'DJI_0012.JPG' \n",
    "xmp_dict = get_dji_meta( file )\n",
    "print(xmp_dict)\n",
    "altr = xmp_dict['RelativeAltitude']\n",
    "print(altr)"
   ]
  },
  {
   "cell_type": "code",
   "execution_count": 10,
   "metadata": {},
   "outputs": [],
   "source": [
    "# test reading all of the data from a directory\n"
   ]
  }
 ],
 "metadata": {
  "kernelspec": {
   "display_name": "Python 3",
   "language": "python",
   "name": "python3"
  },
  "language_info": {
   "codemirror_mode": {
    "name": "ipython",
    "version": 3
   },
   "file_extension": ".py",
   "mimetype": "text/x-python",
   "name": "python",
   "nbconvert_exporter": "python",
   "pygments_lexer": "ipython3",
   "version": "3.6.3"
  }
 },
 "nbformat": 4,
 "nbformat_minor": 2
}

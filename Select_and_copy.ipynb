{
 "cells": [
  {
   "cell_type": "markdown",
   "metadata": {},
   "source": [
    "## Select_images_by_location\n",
    "\n",
    "Use a lat/lon bounding box and image locations in the navigation files to copy a subset of images\n",
    "to a target directory. Make a quick plot of the image locations copied."
   ]
  },
  {
   "cell_type": "code",
   "execution_count": 1,
   "metadata": {
    "ExecuteTime": {
     "end_time": "2017-07-17T08:53:43.707000",
     "start_time": "2017-07-17T08:53:41.496000"
    }
   },
   "outputs": [],
   "source": [
    "import matplotlib.pyplot as plt\n",
    "import numpy as np\n",
    "import os\n",
    "import shutil\n",
    "from pathlib import Path\n",
    "import pandas as pd\n",
    "%matplotlib inline"
   ]
  },
  {
   "cell_type": "markdown",
   "metadata": {},
   "source": [
    "### Location of navigation file"
   ]
  },
  {
   "cell_type": "code",
   "execution_count": 2,
   "metadata": {
    "ExecuteTime": {
     "end_time": "2017-07-17T16:41:43.263000",
     "start_time": "2017-07-17T16:41:39.242000"
    }
   },
   "outputs": [],
   "source": [
    "parent_dir = 'D:\\\\crs\\\\proj\\\\2019_DorianOBX\\\\WayneWright_flights'\n",
    "nav_files = ['2019_0912_ppk-photo-locations-mbase-GP151012.txt',\\\n",
    "             '2019_0912_ppk-photo-locations-5base-GP205057.txt',\\\n",
    "             '2019_0913_ppk-photo-locations-mbase-GP113712.txt']\n",
    "skiprows = [32, 38, 26]\n",
    "path=[]\n",
    "for i in range(len(nav_files)):\n",
    "   path.append( os.path.join(parent_dir,nav_files[i]) )"
   ]
  },
  {
   "cell_type": "markdown",
   "metadata": {},
   "source": [
    "### Source and destination folders for imagery\n",
    "\n",
    "Order of `nav_files` and `src_dirs` must correspond."
   ]
  },
  {
   "cell_type": "code",
   "execution_count": 3,
   "metadata": {},
   "outputs": [],
   "source": [
    "src_dirs = [ 'D:\\\\crs\\\\proj\\\\2019_DorianOBX\\\\WayneWright_flights\\\\2019-09_OBX\\\\flight1-0912',\\\n",
    "             'D:\\\\crs\\\\proj\\\\2019_DorianOBX\\\\WayneWright_flights\\\\2019-09_OBX\\\\flight2-0912',\\\n",
    "             'D:\\\\crs\\\\proj\\\\2019_DorianOBX\\\\WayneWright_flights\\\\2019-09_OBX\\\\flight3-0913']\n",
    "\n",
    "dest_dir = 'D:\\\\crs\\\\proj\\\\2019_DorianOBX\\\\WayneWright_flights\\\\2019-09_OBX\\\\2019-09-12-13_CoreBx_images'"
   ]
  },
  {
   "cell_type": "code",
   "execution_count": 4,
   "metadata": {},
   "outputs": [],
   "source": [
    "### Pick which `nav_file` and `src_dirs` pair you want to use."
   ]
  },
  {
   "cell_type": "code",
   "execution_count": 17,
   "metadata": {},
   "outputs": [
    {
     "name": "stdout",
     "output_type": "stream",
     "text": [
      "Source directory: D:\\crs\\proj\\2019_DorianOBX\\WayneWright_flights\\2019-09_OBX\\flight3-0913\n",
      "Navigation file : D:\\crs\\proj\\2019_DorianOBX\\WayneWright_flights\\2019_0913_ppk-photo-locations-mbase-GP113712.txt\n"
     ]
    }
   ],
   "source": [
    "n = 2\n",
    "print('Source directory: {}'.format(src_dirs[n]))\n",
    "print('Navigation file : {}'.format(path[n]))"
   ]
  },
  {
   "cell_type": "markdown",
   "metadata": {},
   "source": [
    "### Target location and bounding box"
   ]
  },
  {
   "cell_type": "code",
   "execution_count": 18,
   "metadata": {},
   "outputs": [],
   "source": [
    "# bounding coords for North Core Banks\n",
    "latmin = 34.83\n",
    "latmax = 35.09\n",
    "lonmin = -76.31\n",
    "lonmax = -76.02"
   ]
  },
  {
   "cell_type": "code",
   "execution_count": 19,
   "metadata": {},
   "outputs": [
    {
     "data": {
      "text/html": [
       "<div>\n",
       "<style scoped>\n",
       "    .dataframe tbody tr th:only-of-type {\n",
       "        vertical-align: middle;\n",
       "    }\n",
       "\n",
       "    .dataframe tbody tr th {\n",
       "        vertical-align: top;\n",
       "    }\n",
       "\n",
       "    .dataframe thead th {\n",
       "        text-align: right;\n",
       "    }\n",
       "</style>\n",
       "<table border=\"1\" class=\"dataframe\">\n",
       "  <thead>\n",
       "    <tr style=\"text-align: right;\">\n",
       "      <th></th>\n",
       "      <th>easting</th>\n",
       "      <th>northing</th>\n",
       "      <th>elev</th>\n",
       "      <th>lat</th>\n",
       "      <th>lon</th>\n",
       "      <th>ell</th>\n",
       "      <th>one</th>\n",
       "      <th>SDHeight</th>\n",
       "      <th>SDHoriz</th>\n",
       "      <th>UTCSeconds</th>\n",
       "    </tr>\n",
       "  </thead>\n",
       "  <tbody>\n",
       "    <tr>\n",
       "      <th>count</th>\n",
       "      <td>3448.000000</td>\n",
       "      <td>3.448000e+03</td>\n",
       "      <td>3448.000000</td>\n",
       "      <td>3448.000000</td>\n",
       "      <td>3448.000000</td>\n",
       "      <td>3448.000000</td>\n",
       "      <td>3448.0</td>\n",
       "      <td>3448.000000</td>\n",
       "      <td>3448.000000</td>\n",
       "      <td>3448.000000</td>\n",
       "    </tr>\n",
       "    <tr>\n",
       "      <th>mean</th>\n",
       "      <td>390075.923479</td>\n",
       "      <td>3.864575e+06</td>\n",
       "      <td>307.841192</td>\n",
       "      <td>34.917469</td>\n",
       "      <td>-76.202900</td>\n",
       "      <td>269.815040</td>\n",
       "      <td>1.0</td>\n",
       "      <td>0.023573</td>\n",
       "      <td>0.013978</td>\n",
       "      <td>476449.411488</td>\n",
       "    </tr>\n",
       "    <tr>\n",
       "      <th>std</th>\n",
       "      <td>21213.059856</td>\n",
       "      <td>1.954135e+04</td>\n",
       "      <td>21.422347</td>\n",
       "      <td>0.178427</td>\n",
       "      <td>0.229692</td>\n",
       "      <td>21.627012</td>\n",
       "      <td>0.0</td>\n",
       "      <td>0.002392</td>\n",
       "      <td>0.001191</td>\n",
       "      <td>1132.290225</td>\n",
       "    </tr>\n",
       "    <tr>\n",
       "      <th>min</th>\n",
       "      <td>358868.364000</td>\n",
       "      <td>3.827839e+06</td>\n",
       "      <td>218.755000</td>\n",
       "      <td>34.582699</td>\n",
       "      <td>-76.538939</td>\n",
       "      <td>180.141000</td>\n",
       "      <td>1.0</td>\n",
       "      <td>0.020000</td>\n",
       "      <td>0.012000</td>\n",
       "      <td>474559.016000</td>\n",
       "    </tr>\n",
       "    <tr>\n",
       "      <th>25%</th>\n",
       "      <td>371095.794750</td>\n",
       "      <td>3.848158e+06</td>\n",
       "      <td>306.211500</td>\n",
       "      <td>34.767451</td>\n",
       "      <td>-76.408611</td>\n",
       "      <td>268.225000</td>\n",
       "      <td>1.0</td>\n",
       "      <td>0.022000</td>\n",
       "      <td>0.014000</td>\n",
       "      <td>475452.766000</td>\n",
       "    </tr>\n",
       "    <tr>\n",
       "      <th>50%</th>\n",
       "      <td>388378.402000</td>\n",
       "      <td>3.865861e+06</td>\n",
       "      <td>313.425500</td>\n",
       "      <td>34.929087</td>\n",
       "      <td>-76.222144</td>\n",
       "      <td>275.589000</td>\n",
       "      <td>1.0</td>\n",
       "      <td>0.024000</td>\n",
       "      <td>0.014000</td>\n",
       "      <td>476428.527500</td>\n",
       "    </tr>\n",
       "    <tr>\n",
       "      <th>75%</th>\n",
       "      <td>409123.995500</td>\n",
       "      <td>3.882278e+06</td>\n",
       "      <td>319.945250</td>\n",
       "      <td>35.079184</td>\n",
       "      <td>-75.996839</td>\n",
       "      <td>282.124500</td>\n",
       "      <td>1.0</td>\n",
       "      <td>0.025000</td>\n",
       "      <td>0.015000</td>\n",
       "      <td>477441.297750</td>\n",
       "    </tr>\n",
       "    <tr>\n",
       "      <th>max</th>\n",
       "      <td>429844.142000</td>\n",
       "      <td>3.894819e+06</td>\n",
       "      <td>336.413000</td>\n",
       "      <td>35.193880</td>\n",
       "      <td>-75.770557</td>\n",
       "      <td>298.596000</td>\n",
       "      <td>1.0</td>\n",
       "      <td>0.028000</td>\n",
       "      <td>0.016000</td>\n",
       "      <td>478478.052000</td>\n",
       "    </tr>\n",
       "  </tbody>\n",
       "</table>\n",
       "</div>"
      ],
      "text/plain": [
       "             easting      northing         elev          lat          lon  \\\n",
       "count    3448.000000  3.448000e+03  3448.000000  3448.000000  3448.000000   \n",
       "mean   390075.923479  3.864575e+06   307.841192    34.917469   -76.202900   \n",
       "std     21213.059856  1.954135e+04    21.422347     0.178427     0.229692   \n",
       "min    358868.364000  3.827839e+06   218.755000    34.582699   -76.538939   \n",
       "25%    371095.794750  3.848158e+06   306.211500    34.767451   -76.408611   \n",
       "50%    388378.402000  3.865861e+06   313.425500    34.929087   -76.222144   \n",
       "75%    409123.995500  3.882278e+06   319.945250    35.079184   -75.996839   \n",
       "max    429844.142000  3.894819e+06   336.413000    35.193880   -75.770557   \n",
       "\n",
       "               ell     one     SDHeight      SDHoriz     UTCSeconds  \n",
       "count  3448.000000  3448.0  3448.000000  3448.000000    3448.000000  \n",
       "mean    269.815040     1.0     0.023573     0.013978  476449.411488  \n",
       "std      21.627012     0.0     0.002392     0.001191    1132.290225  \n",
       "min     180.141000     1.0     0.020000     0.012000  474559.016000  \n",
       "25%     268.225000     1.0     0.022000     0.014000  475452.766000  \n",
       "50%     275.589000     1.0     0.024000     0.014000  476428.527500  \n",
       "75%     282.124500     1.0     0.025000     0.015000  477441.297750  \n",
       "max     298.596000     1.0     0.028000     0.016000  478478.052000  "
      ]
     },
     "execution_count": 19,
     "metadata": {},
     "output_type": "execute_result"
    }
   ],
   "source": [
    "df = pd.read_csv(path[n], skiprows=skiprows[n], header=None, delim_whitespace=True,\\\n",
    "                names = ['image_name','easting','northing','elev','lat','lon','ell','one',\\\n",
    "                         'SDHeight','SDHoriz','UTCDate','UTCTime','UTCSeconds'])\n",
    "df.describe()"
   ]
  },
  {
   "cell_type": "markdown",
   "metadata": {},
   "source": [
    "### Find images inside the bounding box and put them in a new, smaller dataframe called `dfs`"
   ]
  },
  {
   "cell_type": "code",
   "execution_count": 20,
   "metadata": {},
   "outputs": [
    {
     "name": "stdout",
     "output_type": "stream",
     "text": [
      "Found 1174 images.\n"
     ]
    }
   ],
   "source": [
    "dfs = df[ (df['lat']>=latmin) & (df['lat']<=latmax) & (df['lon']>=lonmin) & (df['lon']<=lonmax) ]\n",
    "print(\"Found {} images.\".format(len(dfs)))"
   ]
  },
  {
   "cell_type": "markdown",
   "metadata": {},
   "source": [
    "### Copy the images to the destination directory (which must already exist)"
   ]
  },
  {
   "cell_type": "code",
   "execution_count": 21,
   "metadata": {},
   "outputs": [
    {
     "name": "stdout",
     "output_type": "stream",
     "text": [
      "missing 0 of 1174\n"
     ]
    }
   ],
   "source": [
    "icount = 0\n",
    "for filename in dfs['image_name']:\n",
    "    s = os.path.join(src_dirs[n], filename )\n",
    "    d = os.path.join(dest_dir, filename )\n",
    "    try:\n",
    "        shutil.copyfile( s, d )\n",
    "    except:\n",
    "        icount = icount + 1\n",
    "        print( os.path.join(src_dirs[n], filename) +' is missing.')\n",
    "        \n",
    "print(\"missing {} of {}\".format(icount,len(dfs)))"
   ]
  },
  {
   "cell_type": "markdown",
   "metadata": {},
   "source": [
    "### Make a simple plot"
   ]
  },
  {
   "cell_type": "code",
   "execution_count": 22,
   "metadata": {
    "ExecuteTime": {
     "end_time": "2017-07-17T08:53:45.553000",
     "start_time": "2017-07-17T08:53:45.548000"
    }
   },
   "outputs": [
    {
     "data": {
      "image/png": "[encoded data removed]",
      "text/plain": [
       "<Figure size 432x288 with 1 Axes>"
      ]
     },
     "metadata": {
      "needs_background": "light"
     },
     "output_type": "display_data"
    }
   ],
   "source": [
    "easting = df['easting'].values\n",
    "northing = df['northing'].values\n",
    "eastings = dfs['easting'].values\n",
    "northings = dfs['northing'].values\n",
    "plt.plot(easting,northing,'.',color='gray',label='flown')\n",
    "plt.plot(eastings,northings,'.',color='blue',label='copied')\n",
    "plt.legend()\n",
    "plt.show()"
   ]
  },
  {
   "cell_type": "code",
   "execution_count": null,
   "metadata": {},
   "outputs": [],
   "source": []
  }
 ],
 "metadata": {
  "kernelspec": {
   "display_name": "Python 3",
   "language": "python",
   "name": "python3"
  },
  "language_info": {
   "codemirror_mode": {
    "name": "ipython",
    "version": 3
   },
   "file_extension": ".py",
   "mimetype": "text/x-python",
   "name": "python",
   "nbconvert_exporter": "python",
   "pygments_lexer": "ipython3",
   "version": "3.7.3"
  }
 },
 "nbformat": 4,
 "nbformat_minor": 2
}

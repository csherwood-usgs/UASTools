{
 "cells": [
  {
   "cell_type": "markdown",
   "metadata": {},
   "source": [
    "## Select_images_by_location\n",
    "\n",
    "Use a lat/lon bounding box and image locations in the navigation files to copy a subset of images\n",
    "to a target directory. Make a quick plot of the image locations copied."
   ]
  },
  {
   "cell_type": "code",
   "execution_count": 13,
   "metadata": {
    "ExecuteTime": {
     "end_time": "2017-07-17T08:53:43.707000",
     "start_time": "2017-07-17T08:53:41.496000"
    }
   },
   "outputs": [],
   "source": [
    "import matplotlib.pyplot as plt\n",
    "import numpy as np\n",
    "import os\n",
    "import shutil\n",
    "from pathlib import Path\n",
    "import pandas as pd\n",
    "%matplotlib inline"
   ]
  },
  {
   "cell_type": "code",
   "execution_count": 14,
   "metadata": {},
   "outputs": [],
   "source": [
    "### Target location and bounding box"
   ]
  },
  {
   "cell_type": "code",
   "execution_count": 15,
   "metadata": {},
   "outputs": [],
   "source": [
    "# bounding coords for North Core Banks\n",
    "latmin = 34.83\n",
    "latmax = 35.09\n",
    "lonmin = -76.31\n",
    "lonmax = -76.02"
   ]
  },
  {
   "cell_type": "markdown",
   "metadata": {},
   "source": [
    "### Location of navigation file"
   ]
  },
  {
   "cell_type": "code",
   "execution_count": 16,
   "metadata": {
    "ExecuteTime": {
     "end_time": "2017-07-17T16:41:43.263000",
     "start_time": "2017-07-17T16:41:39.242000"
    }
   },
   "outputs": [],
   "source": [
    "parent_dir = 'D:\\\\crs\\\\proj\\\\2019_DorianOBX\\\\WayneWright_flights'\n",
    "nav_files = ['2019_0830_ppk-photo-locations-mbase-GP161658.txt',\\\n",
    "             '2019_0830_ppk-photo-locations-mbase-GP192757.txt']\n",
    "\n",
    "skiprows = [35, 35]\n",
    "path=[]\n",
    "for i in range(len(nav_files)):\n",
    "   path.append( os.path.join(parent_dir,nav_files[i]) )"
   ]
  },
  {
   "cell_type": "markdown",
   "metadata": {},
   "source": [
    "### Source and destination folders for imagery\n",
    "\n",
    "Order of `nav_files` and `src_dirs` must correspond."
   ]
  },
  {
   "cell_type": "code",
   "execution_count": 34,
   "metadata": {},
   "outputs": [],
   "source": [
    "src_dirs = ['H:\\\\data\\\\HxDorian_2019\\\\pre-storm\\\\images\\\\jpgs\\\\flight1-0830',\\\n",
    "            'H:\\\\data\\\\HxDorian_2019\\\\pre-storm\\\\images\\\\jpgs\\\\flight2-0830']\n",
    "dest_dir = ['D:\\\\crs\\\\proj\\\\2019_DorianOBX\\\\WayneWright_flights\\\\2019-08_OBX\\\\2019-08-30_CoreBx_images\\\\flight1-0830',\\\n",
    "            'D:\\\\crs\\\\proj\\\\2019_DorianOBX\\\\WayneWright_flights\\\\2019-08_OBX\\\\2019-08-30_CoreBx_images\\\\flight2-0830']"
   ]
  },
  {
   "cell_type": "code",
   "execution_count": 18,
   "metadata": {},
   "outputs": [],
   "source": [
    "### Pick which `nav_file` and `src_dirs` pair you want to use."
   ]
  },
  {
   "cell_type": "code",
   "execution_count": 40,
   "metadata": {},
   "outputs": [
    {
     "name": "stdout",
     "output_type": "stream",
     "text": [
      "Navigation file : D:\\crs\\proj\\2019_DorianOBX\\WayneWright_flights\\2019_0830_ppk-photo-locations-mbase-GP161658.txt\n",
      "Source directory: H:\\data\\HxDorian_2019\\pre-storm\\images\\jpgs\\flight1-0830\n",
      "Dest. directory: D:\\crs\\proj\\2019_DorianOBX\\WayneWright_flights\\2019-08_OBX\\2019-08-30_CoreBx_images\\flight1-0830\n"
     ]
    }
   ],
   "source": [
    "n=0\n",
    "print('Navigation file : {}'.format(path[n]))\n",
    "print('Source directory: {}'.format(src_dirs[n]))\n",
    "print('Dest. directory: {}'.format(dest_dir[n]))"
   ]
  },
  {
   "cell_type": "code",
   "execution_count": 41,
   "metadata": {},
   "outputs": [
    {
     "data": {
      "text/html": [
       "<div>\n",
       "<style scoped>\n",
       "    .dataframe tbody tr th:only-of-type {\n",
       "        vertical-align: middle;\n",
       "    }\n",
       "\n",
       "    .dataframe tbody tr th {\n",
       "        vertical-align: top;\n",
       "    }\n",
       "\n",
       "    .dataframe thead th {\n",
       "        text-align: right;\n",
       "    }\n",
       "</style>\n",
       "<table border=\"1\" class=\"dataframe\">\n",
       "  <thead>\n",
       "    <tr style=\"text-align: right;\">\n",
       "      <th></th>\n",
       "      <th>easting</th>\n",
       "      <th>northing</th>\n",
       "      <th>elev</th>\n",
       "      <th>lat</th>\n",
       "      <th>lon</th>\n",
       "      <th>ell</th>\n",
       "      <th>one</th>\n",
       "      <th>SDHeight</th>\n",
       "      <th>SDHoriz</th>\n",
       "      <th>UTCSeconds</th>\n",
       "    </tr>\n",
       "  </thead>\n",
       "  <tbody>\n",
       "    <tr>\n",
       "      <th>count</th>\n",
       "      <td>8074.000000</td>\n",
       "      <td>8.074000e+03</td>\n",
       "      <td>8074.000000</td>\n",
       "      <td>8074.000000</td>\n",
       "      <td>8074.000000</td>\n",
       "      <td>8074.000000</td>\n",
       "      <td>8074.000000</td>\n",
       "      <td>8074.000000</td>\n",
       "      <td>8074.000000</td>\n",
       "      <td>8074.000000</td>\n",
       "    </tr>\n",
       "    <tr>\n",
       "      <th>mean</th>\n",
       "      <td>409995.893444</td>\n",
       "      <td>3.882685e+06</td>\n",
       "      <td>311.304005</td>\n",
       "      <td>35.082411</td>\n",
       "      <td>-75.986090</td>\n",
       "      <td>273.026786</td>\n",
       "      <td>1.092643</td>\n",
       "      <td>0.024662</td>\n",
       "      <td>0.015226</td>\n",
       "      <td>495536.944096</td>\n",
       "    </tr>\n",
       "    <tr>\n",
       "      <th>std</th>\n",
       "      <td>32836.114592</td>\n",
       "      <td>3.347492e+04</td>\n",
       "      <td>8.706483</td>\n",
       "      <td>0.304478</td>\n",
       "      <td>0.356869</td>\n",
       "      <td>8.773168</td>\n",
       "      <td>0.320392</td>\n",
       "      <td>0.033849</td>\n",
       "      <td>0.018192</td>\n",
       "      <td>2718.106582</td>\n",
       "    </tr>\n",
       "    <tr>\n",
       "      <th>min</th>\n",
       "      <td>358997.767000</td>\n",
       "      <td>3.825794e+06</td>\n",
       "      <td>270.948000</td>\n",
       "      <td>34.564455</td>\n",
       "      <td>-76.537107</td>\n",
       "      <td>232.665000</td>\n",
       "      <td>1.000000</td>\n",
       "      <td>0.016000</td>\n",
       "      <td>0.010000</td>\n",
       "      <td>491041.031000</td>\n",
       "    </tr>\n",
       "    <tr>\n",
       "      <th>25%</th>\n",
       "      <td>379721.636000</td>\n",
       "      <td>3.857782e+06</td>\n",
       "      <td>305.874000</td>\n",
       "      <td>34.855261</td>\n",
       "      <td>-76.315727</td>\n",
       "      <td>267.509000</td>\n",
       "      <td>1.000000</td>\n",
       "      <td>0.019000</td>\n",
       "      <td>0.012000</td>\n",
       "      <td>493241.293000</td>\n",
       "    </tr>\n",
       "    <tr>\n",
       "      <th>50%</th>\n",
       "      <td>409438.819500</td>\n",
       "      <td>3.881990e+06</td>\n",
       "      <td>311.042500</td>\n",
       "      <td>35.076599</td>\n",
       "      <td>-75.993359</td>\n",
       "      <td>272.817500</td>\n",
       "      <td>1.000000</td>\n",
       "      <td>0.021000</td>\n",
       "      <td>0.013000</td>\n",
       "      <td>495473.550500</td>\n",
       "    </tr>\n",
       "    <tr>\n",
       "      <th>75%</th>\n",
       "      <td>443321.448000</td>\n",
       "      <td>3.898096e+06</td>\n",
       "      <td>316.761750</td>\n",
       "      <td>35.224393</td>\n",
       "      <td>-75.622877</td>\n",
       "      <td>278.548250</td>\n",
       "      <td>1.000000</td>\n",
       "      <td>0.025000</td>\n",
       "      <td>0.015000</td>\n",
       "      <td>497708.779000</td>\n",
       "    </tr>\n",
       "    <tr>\n",
       "      <th>max</th>\n",
       "      <td>458324.543000</td>\n",
       "      <td>3.974221e+06</td>\n",
       "      <td>353.934000</td>\n",
       "      <td>35.910827</td>\n",
       "      <td>-75.459958</td>\n",
       "      <td>315.267000</td>\n",
       "      <td>4.000000</td>\n",
       "      <td>1.904000</td>\n",
       "      <td>0.999000</td>\n",
       "      <td>500433.025000</td>\n",
       "    </tr>\n",
       "  </tbody>\n",
       "</table>\n",
       "</div>"
      ],
      "text/plain": [
       "             easting      northing         elev          lat          lon  \\\n",
       "count    8074.000000  8.074000e+03  8074.000000  8074.000000  8074.000000   \n",
       "mean   409995.893444  3.882685e+06   311.304005    35.082411   -75.986090   \n",
       "std     32836.114592  3.347492e+04     8.706483     0.304478     0.356869   \n",
       "min    358997.767000  3.825794e+06   270.948000    34.564455   -76.537107   \n",
       "25%    379721.636000  3.857782e+06   305.874000    34.855261   -76.315727   \n",
       "50%    409438.819500  3.881990e+06   311.042500    35.076599   -75.993359   \n",
       "75%    443321.448000  3.898096e+06   316.761750    35.224393   -75.622877   \n",
       "max    458324.543000  3.974221e+06   353.934000    35.910827   -75.459958   \n",
       "\n",
       "               ell          one     SDHeight      SDHoriz     UTCSeconds  \n",
       "count  8074.000000  8074.000000  8074.000000  8074.000000    8074.000000  \n",
       "mean    273.026786     1.092643     0.024662     0.015226  495536.944096  \n",
       "std       8.773168     0.320392     0.033849     0.018192    2718.106582  \n",
       "min     232.665000     1.000000     0.016000     0.010000  491041.031000  \n",
       "25%     267.509000     1.000000     0.019000     0.012000  493241.293000  \n",
       "50%     272.817500     1.000000     0.021000     0.013000  495473.550500  \n",
       "75%     278.548250     1.000000     0.025000     0.015000  497708.779000  \n",
       "max     315.267000     4.000000     1.904000     0.999000  500433.025000  "
      ]
     },
     "execution_count": 41,
     "metadata": {},
     "output_type": "execute_result"
    }
   ],
   "source": [
    "df = pd.read_csv(path[n], skiprows=skiprows[n], header=None, delim_whitespace=True,\\\n",
    "                names = ['image_name','easting','northing','elev','lat','lon','ell','one',\\\n",
    "                         'SDHeight','SDHoriz','UTCDate','UTCTime','UTCSeconds'])\n",
    "df.describe()"
   ]
  },
  {
   "cell_type": "markdown",
   "metadata": {},
   "source": [
    "### Find images inside the bounding box and put them in a new, smaller dataframe called `dfs`"
   ]
  },
  {
   "cell_type": "code",
   "execution_count": 42,
   "metadata": {},
   "outputs": [
    {
     "name": "stdout",
     "output_type": "stream",
     "text": [
      "Found 1847 images.\n"
     ]
    }
   ],
   "source": [
    "dfs = df[ (df['lat']>=latmin) & (df['lat']<=latmax) & (df['lon']>=lonmin) & (df['lon']<=lonmax) ]\n",
    "print(\"Found {} images.\".format(len(dfs)))"
   ]
  },
  {
   "cell_type": "markdown",
   "metadata": {},
   "source": [
    "### Copy the images to the destination directory (which must already exist)"
   ]
  },
  {
   "cell_type": "code",
   "execution_count": 43,
   "metadata": {},
   "outputs": [
    {
     "name": "stdout",
     "output_type": "stream",
     "text": [
      "missing 0 of 1847\n"
     ]
    }
   ],
   "source": [
    "icount = 0\n",
    "for filename in dfs['image_name']:\n",
    "    s = os.path.join(src_dirs[n], filename )\n",
    "    d = os.path.join(dest_dir[n], filename )\n",
    "    try:\n",
    "        shutil.copyfile( s, d )\n",
    "    except:\n",
    "        icount = icount + 1\n",
    "        print( os.path.join(src_dirs[n], filename) +' is missing.')\n",
    "        \n",
    "print(\"missing {} of {}\".format(icount,len(dfs)))"
   ]
  },
  {
   "cell_type": "markdown",
   "metadata": {},
   "source": [
    "### Make a simple plot"
   ]
  },
  {
   "cell_type": "code",
   "execution_count": 44,
   "metadata": {
    "ExecuteTime": {
     "end_time": "2017-07-17T08:53:45.553000",
     "start_time": "2017-07-17T08:53:45.548000"
    }
   },
   "outputs": [
    {
     "data": {
      "image/png": "[encoded data removed]",
      "text/plain": [
       "<Figure size 432x288 with 1 Axes>"
      ]
     },
     "metadata": {
      "needs_background": "light"
     },
     "output_type": "display_data"
    }
   ],
   "source": [
    "easting = df['easting'].values\n",
    "northing = df['northing'].values\n",
    "eastings = dfs['easting'].values\n",
    "northings = dfs['northing'].values\n",
    "plt.plot(easting,northing,'.',color='gray',label='flown')\n",
    "plt.plot(eastings,northings,'.',color='blue',label='copied')\n",
    "plt.legend()\n",
    "plt.show()"
   ]
  },
  {
   "cell_type": "code",
   "execution_count": null,
   "metadata": {},
   "outputs": [],
   "source": []
  }
 ],
 "metadata": {
  "kernelspec": {
   "display_name": "Python 3",
   "language": "python",
   "name": "python3"
  },
  "language_info": {
   "codemirror_mode": {
    "name": "ipython",
    "version": 3
   },
   "file_extension": ".py",
   "mimetype": "text/x-python",
   "name": "python",
   "nbconvert_exporter": "python",
   "pygments_lexer": "ipython3",
   "version": "3.7.3"
  }
 },
 "nbformat": 4,
 "nbformat_minor": 2
}

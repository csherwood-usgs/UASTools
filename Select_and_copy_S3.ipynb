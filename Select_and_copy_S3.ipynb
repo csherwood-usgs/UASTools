{
 "cells": [
  {
   "cell_type": "markdown",
   "metadata": {},
   "source": [
    "## Select_and_copy_S3\n",
    "\n",
    "Use a lat/lon bounding box and image locations in the navigation files to copy a subset of images from an S3 bucket to a local directory. Make a quick plot of the image locations copied."
   ]
  },
  {
   "cell_type": "code",
   "execution_count": 1,
   "metadata": {
    "ExecuteTime": {
     "end_time": "2017-07-17T08:53:43.707000",
     "start_time": "2017-07-17T08:53:41.496000"
    }
   },
   "outputs": [
    {
     "name": "stdout",
     "output_type": "stream",
     "text": [
      "Found 715 images.\n"
     ]
    }
   ],
   "source": [
    "import os\n",
    "import pandas as pd\n",
    "import boto3\n",
    "import matplotlib.pyplot as plt\n",
    "%matplotlib inline\n",
    "\n",
    "# bounding coords for North Core Banks\n",
    "latmin = 34.83\n",
    "latmax = 35.09\n",
    "lonmin = -76.33\n",
    "lonmax = -76.02\n",
    "\n",
    "# location of navigation files\n",
    "parent_dir = 'C:\\\\crs\\\\proj\\\\2019_DorianOBX\\\\WayneWright_flights\\\\2019-10-post-Dorian_proc'\n",
    "nav_files = ['2019_1011_ppk-photo-locations-mbase-GP144357.txt',\\\n",
    "             '2019_1011_ppk-photo-locations-mbase-GP171357.txt']\n",
    "\n",
    "# how many rows to skip at top of file?\n",
    "skiprows = [35, 35]\n",
    "path=[]\n",
    "for i in range(len(nav_files)):\n",
    "   path.append( os.path.join(parent_dir,nav_files[i]) )\n",
    "\n",
    "# note that you have to run this for n=0 to number of nav files\n",
    "n=0\n",
    "df = pd.read_csv(path[n], skiprows=skiprows[n], header=None, delim_whitespace=True,\\\n",
    "                names = ['image_name','easting','northing','elev','lat','lon','ell','one',\\\n",
    "                         'SDHeight','SDHoriz','UTCDate','UTCTime','UTCSeconds'])\n",
    "df.describe()\n",
    "\n",
    "# Find images outside the bounding box and put them in a new, smaller dataframe called `dfs`\n",
    "\n",
    "dfs = df[ (df['lat']>=latmin) & (df['lat']<=latmax) & (df['lon']>=lonmin) & (df['lon']<=lonmax) ]\n",
    "print(\"Found {} images.\".format(len(dfs)))"
   ]
  },
  {
   "cell_type": "code",
   "execution_count": 2,
   "metadata": {},
   "outputs": [
    {
     "data": {
      "image/png": "[encoded data removed]",
      "text/plain": [
       "<Figure size 432x288 with 1 Axes>"
      ]
     },
     "metadata": {
      "needs_background": "light"
     },
     "output_type": "display_data"
    }
   ],
   "source": [
    "# Make a simple plot\n",
    "easting = df['easting'].values\n",
    "northing = df['northing'].values\n",
    "eastings = dfs['easting'].values\n",
    "northings = dfs['northing'].values\n",
    "plt.plot(easting,northing,'.',color='gray',label='flown')\n",
    "plt.plot(eastings,northings,'.',color='blue',label='copied')\n",
    "plt.legend()\n",
    "plt.show()"
   ]
  },
  {
   "cell_type": "code",
   "execution_count": null,
   "metadata": {},
   "outputs": [
    {
     "name": "stdout",
     "output_type": "stream",
     "text": [
      "Copied D:\\data\\HxDorian_2019\\2019-10-11_CoreBx_dng\\2019-1011-150221-DSC00384-N7251F.dng\n",
      "Copied D:\\data\\HxDorian_2019\\2019-10-11_CoreBx_dng\\2019-1011-150222-DSC00385-N7251F.dng\n",
      "Copied D:\\data\\HxDorian_2019\\2019-10-11_CoreBx_dng\\2019-1011-150223-DSC00386-N7251F.dng\n",
      "Copied D:\\data\\HxDorian_2019\\2019-10-11_CoreBx_dng\\2019-1011-150224-DSC00387-N7251F.dng\n",
      "Copied D:\\data\\HxDorian_2019\\2019-10-11_CoreBx_dng\\2019-1011-150225-DSC00388-N7251F.dng\n",
      "Copied D:\\data\\HxDorian_2019\\2019-10-11_CoreBx_dng\\2019-1011-150226-DSC00389-N7251F.dng\n",
      "Copied D:\\data\\HxDorian_2019\\2019-10-11_CoreBx_dng\\2019-1011-150227-DSC00390-N7251F.dng\n",
      "Copied D:\\data\\HxDorian_2019\\2019-10-11_CoreBx_dng\\2019-1011-150228-DSC00391-N7251F.dng\n",
      "Copied D:\\data\\HxDorian_2019\\2019-10-11_CoreBx_dng\\2019-1011-150229-DSC00392-N7251F.dng\n",
      "Copied D:\\data\\HxDorian_2019\\2019-10-11_CoreBx_dng\\2019-1011-150230-DSC00393-N7251F.dng\n",
      "Copied D:\\data\\HxDorian_2019\\2019-10-11_CoreBx_dng\\2019-1011-150231-DSC00394-N7251F.dng\n",
      "Copied D:\\data\\HxDorian_2019\\2019-10-11_CoreBx_dng\\2019-1011-150232-DSC00395-N7251F.dng\n",
      "Copied D:\\data\\HxDorian_2019\\2019-10-11_CoreBx_dng\\2019-1011-150233-DSC00396-N7251F.dng\n",
      "Copied D:\\data\\HxDorian_2019\\2019-10-11_CoreBx_dng\\2019-1011-150234-DSC00397-N7251F.dng\n",
      "Copied D:\\data\\HxDorian_2019\\2019-10-11_CoreBx_dng\\2019-1011-150235-DSC00398-N7251F.dng\n",
      "Copied D:\\data\\HxDorian_2019\\2019-10-11_CoreBx_dng\\2019-1011-150236-DSC00399-N7251F.dng\n",
      "Copied D:\\data\\HxDorian_2019\\2019-10-11_CoreBx_dng\\2019-1011-150237-DSC00400-N7251F.dng\n",
      "Copied D:\\data\\HxDorian_2019\\2019-10-11_CoreBx_dng\\2019-1011-150238-DSC00401-N7251F.dng\n",
      "Copied D:\\data\\HxDorian_2019\\2019-10-11_CoreBx_dng\\2019-1011-150239-DSC00402-N7251F.dng\n",
      "Copied D:\\data\\HxDorian_2019\\2019-10-11_CoreBx_dng\\2019-1011-150241-DSC00403-N7251F.dng\n",
      "Copied D:\\data\\HxDorian_2019\\2019-10-11_CoreBx_dng\\2019-1011-150242-DSC00404-N7251F.dng\n",
      "Copied D:\\data\\HxDorian_2019\\2019-10-11_CoreBx_dng\\2019-1011-150243-DSC00405-N7251F.dng\n",
      "Copied D:\\data\\HxDorian_2019\\2019-10-11_CoreBx_dng\\2019-1011-150244-DSC00406-N7251F.dng\n",
      "Copied D:\\data\\HxDorian_2019\\2019-10-11_CoreBx_dng\\2019-1011-150245-DSC00407-N7251F.dng\n",
      "Copied D:\\data\\HxDorian_2019\\2019-10-11_CoreBx_dng\\2019-1011-150246-DSC00408-N7251F.dng\n",
      "Copied D:\\data\\HxDorian_2019\\2019-10-11_CoreBx_dng\\2019-1011-150247-DSC00409-N7251F.dng\n",
      "Copied D:\\data\\HxDorian_2019\\2019-10-11_CoreBx_dng\\2019-1011-150248-DSC00410-N7251F.dng\n",
      "Copied D:\\data\\HxDorian_2019\\2019-10-11_CoreBx_dng\\2019-1011-150249-DSC00411-N7251F.dng\n",
      "Copied D:\\data\\HxDorian_2019\\2019-10-11_CoreBx_dng\\2019-1011-150250-DSC00412-N7251F.dng\n",
      "Copied D:\\data\\HxDorian_2019\\2019-10-11_CoreBx_dng\\2019-1011-150251-DSC00413-N7251F.dng\n",
      "Copied D:\\data\\HxDorian_2019\\2019-10-11_CoreBx_dng\\2019-1011-150252-DSC00414-N7251F.dng\n",
      "Copied D:\\data\\HxDorian_2019\\2019-10-11_CoreBx_dng\\2019-1011-150253-DSC00415-N7251F.dng\n",
      "Copied D:\\data\\HxDorian_2019\\2019-10-11_CoreBx_dng\\2019-1011-150254-DSC00416-N7251F.dng\n",
      "Copied D:\\data\\HxDorian_2019\\2019-10-11_CoreBx_dng\\2019-1011-150255-DSC00417-N7251F.dng\n",
      "Copied D:\\data\\HxDorian_2019\\2019-10-11_CoreBx_dng\\2019-1011-150256-DSC00418-N7251F.dng\n",
      "Copied D:\\data\\HxDorian_2019\\2019-10-11_CoreBx_dng\\2019-1011-150257-DSC00419-N7251F.dng\n",
      "Copied D:\\data\\HxDorian_2019\\2019-10-11_CoreBx_dng\\2019-1011-150258-DSC00420-N7251F.dng\n",
      "Copied D:\\data\\HxDorian_2019\\2019-10-11_CoreBx_dng\\2019-1011-150259-DSC00421-N7251F.dng\n",
      "Copied D:\\data\\HxDorian_2019\\2019-10-11_CoreBx_dng\\2019-1011-150300-DSC00422-N7251F.dng\n",
      "Copied D:\\data\\HxDorian_2019\\2019-10-11_CoreBx_dng\\2019-1011-150301-DSC00423-N7251F.dng\n",
      "Copied D:\\data\\HxDorian_2019\\2019-10-11_CoreBx_dng\\2019-1011-150302-DSC00424-N7251F.dng\n"
     ]
    }
   ],
   "source": [
    "s3_resource = boto3.resource('s3')\n",
    "bucket = s3_resource.Bucket('cmgp-sfm')\n",
    "\n",
    "icount = 0\n",
    "for f in dfs['image_name'].values :\n",
    "    local_dest = 'D:\\\\data\\\\HxDorian_2019\\\\2019-10-11_CoreBx_dng\\\\'+f\n",
    "    try:\n",
    "        src_key = '2019-10_OBX/dng/144357/'+f\n",
    "        bucket.download_file(src_key, local_dest)\n",
    "        print(\"Copied \"+local_dest)\n",
    "        icount = icount +1\n",
    "    except:\n",
    "        print(\"Fail: \"+src_key)\n",
    "        try:\n",
    "            src_key = '2019-10_OBX/dng/171357/'+f\n",
    "            bucket.download_file(src_key, local_dest)\n",
    "            print(\"Copied \"+local_dest)\n",
    "            icount = icount +1\n",
    "        except:\n",
    "            print(\"Fail: \"+src_key)\n",
    "            \n",
    "print(\"Copied {} files.\".format(icount))"
   ]
  }
 ],
 "metadata": {
  "kernelspec": {
   "display_name": "Python 3",
   "language": "python",
   "name": "python3"
  },
  "language_info": {
   "codemirror_mode": {
    "name": "ipython",
    "version": 3
   },
   "file_extension": ".py",
   "mimetype": "text/x-python",
   "name": "python",
   "nbconvert_exporter": "python",
   "pygments_lexer": "ipython3",
   "version": "3.7.3"
  }
 },
 "nbformat": 4,
 "nbformat_minor": 2
}

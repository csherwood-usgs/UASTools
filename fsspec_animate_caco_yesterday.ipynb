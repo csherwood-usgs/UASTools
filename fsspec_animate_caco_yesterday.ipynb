{
 "cells": [
  {
   "cell_type": "code",
   "execution_count": 2,
   "metadata": {},
   "outputs": [
    {
     "name": "stdout",
     "output_type": "stream",
     "text": [
      "ts =  1595239200.0\n",
      "qday =  159523\n",
      "Current time stamp:  1595447004.33165\n",
      "159544\n",
      "2020-07-22\n",
      "2020-07-21\n",
      "<class 'datetime.date'>\n",
      "1595304000.0\n",
      "<class 'float'>\n",
      "[1595304000 1595305800 1595307600 1595309400 1595311200 1595313000\n",
      " 1595314800 1595316600 1595318400 1595320200 1595322000 1595323800\n",
      " 1595325600 1595327400 1595329200 1595331000 1595332800 1595334600\n",
      " 1595336400 1595338200 1595340000 1595341800 1595343600 1595345400\n",
      " 1595347200 1595349000 1595350800 1595352600 1595354400 1595356200\n",
      " 1595358000 1595359800 1595361600 1595363400 1595365200 1595367000\n",
      " 1595368800 1595370600 1595372400 1595374200 1595376000 1595377800\n",
      " 1595379600 1595381400 1595383200 1595385000 1595386800 1595388600\n",
      " 1595390400 1595392200]\n"
     ]
    }
   ],
   "source": [
    "import datetime\n",
    "import fsspec\n",
    "import numpy as np\n",
    "import matplotlib.pyplot as plt\n",
    "from PIL import Image\n",
    "%matplotlib inline\n",
    "\n",
    "date_time_str = '2020-07-20 06:00'\n",
    "date_time_obj = datetime.datetime.strptime(date_time_str, '%Y-%m-%d %H:%M')\n",
    "ts = date_time_obj.timestamp()\n",
    "print('ts = ',ts)\n",
    "qday = str(int(ts/10000.))\n",
    "print('qday = ',qday)\n",
    "\n",
    "tsNow = datetime.datetime.now().timestamp()\n",
    "print(\"Current time stamp: \",tsNow)\n",
    "dayn = str(int(tsNow/10000.))\n",
    "print(dayn)\n",
    "today = datetime.date.today()\n",
    "print(today)\n",
    "print(today-datetime.timedelta(days=1))\n",
    "print(type(today))\n",
    "yesterday=datetime.datetime.combine(datetime.date.today()-datetime.timedelta(days=1), datetime.time()).timestamp()\n",
    "print(yesterday)\n",
    "print(type(yesterday))\n",
    "yesterdayn = int(yesterday)\n",
    "yday_list = np.arange(yesterdayn,yesterday+25*3600,1800,dtype=int)\n",
    "print(yday_list)"
   ]
  },
  {
   "cell_type": "code",
   "execution_count": 3,
   "metadata": {},
   "outputs": [],
   "source": [
    "# This does not work...produces \"Access Denied\"\n",
    "# fs = fsspec.filesystem('s3',anon=True)\n",
    "# fs.ls('cmgp-coastcam/latest/')# "
   ]
  },
  {
   "cell_type": "code",
   "execution_count": 4,
   "metadata": {},
   "outputs": [
    {
     "data": {
      "text/plain": [
       "['cmgp-coastcam/cameras/caco-01/',\n",
       " 'cmgp-coastcam/cameras/caco-01/foo.txt',\n",
       " 'cmgp-coastcam/cameras/caco-01/latest',\n",
       " 'cmgp-coastcam/cameras/caco-01/products',\n",
       " 'cmgp-coastcam/cameras/caco-01/timestacks']"
      ]
     },
     "execution_count": 4,
     "metadata": {},
     "output_type": "execute_result"
    }
   ],
   "source": [
    "# set profile when desired profile is not the default profile\n",
    "fs = fsspec.filesystem('s3', profile='coastcam')\n",
    "fs.ls('cmgp-coastcam/cameras/caco-01/')"
   ]
  },
  {
   "cell_type": "code",
   "execution_count": 11,
   "metadata": {},
   "outputs": [
    {
     "data": {
      "text/plain": [
       "['cmgp-coastcam/cameras/caco-01/products/1595235600.c1.snap.jpg',\n",
       " 'cmgp-coastcam/cameras/caco-01/products/1595235600.c2.snap.jpg',\n",
       " 'cmgp-coastcam/cameras/caco-01/products/1595237400.c1.snap.jpg',\n",
       " 'cmgp-coastcam/cameras/caco-01/products/1595237400.c2.snap.jpg',\n",
       " 'cmgp-coastcam/cameras/caco-01/products/1595239200.c1.snap.jpg',\n",
       " 'cmgp-coastcam/cameras/caco-01/products/1595239200.c2.snap.jpg']"
      ]
     },
     "execution_count": 11,
     "metadata": {},
     "output_type": "execute_result"
    }
   ],
   "source": [
    "# try a wildcard\n",
    "fs.glob('cmgp-coastcam/cameras/caco-01/products/159523*.c*.snap.jpg')"
   ]
  },
  {
   "cell_type": "code",
   "execution_count": 6,
   "metadata": {},
   "outputs": [
    {
     "data": {
      "text/plain": [
       "['cmgp-coastcam/cameras/caco-01/products/1595235600.c1.snap.jpg']"
      ]
     },
     "execution_count": 6,
     "metadata": {},
     "output_type": "execute_result"
    }
   ],
   "source": [
    "# Confirm a specific file is there\n",
    "fs.ls('cmgp-coastcam/cameras/caco-01/products/1595235600.c1.snap.jpg')"
   ]
  },
  {
   "cell_type": "code",
   "execution_count": 7,
   "metadata": {},
   "outputs": [],
   "source": [
    "# Make a local copy\n",
    "f = fs.open(\"s3://cmgp-coastcam/cameras/caco-01/products/1595235600.c1.snap.jpg\",profile='coastcam')"
   ]
  },
  {
   "cell_type": "code",
   "execution_count": 8,
   "metadata": {},
   "outputs": [
    {
     "name": "stdout",
     "output_type": "stream",
     "text": [
      "<class 's3fs.core.S3File'>\n"
     ]
    }
   ],
   "source": [
    "print(type(f))\n",
    "im = Image.open(f)"
   ]
  },
  {
   "cell_type": "code",
   "execution_count": 9,
   "metadata": {},
   "outputs": [],
   "source": [
    "im.show()"
   ]
  },
  {
   "cell_type": "code",
   "execution_count": null,
   "metadata": {},
   "outputs": [],
   "source": [
    "type(infile)"
   ]
  }
 ],
 "metadata": {
  "kernelspec": {
   "display_name": "Python 3",
   "language": "python",
   "name": "python3"
  },
  "language_info": {
   "codemirror_mode": {
    "name": "ipython",
    "version": 3
   },
   "file_extension": ".py",
   "mimetype": "text/x-python",
   "name": "python",
   "nbconvert_exporter": "python",
   "pygments_lexer": "ipython3",
   "version": "3.7.6"
  }
 },
 "nbformat": 4,
 "nbformat_minor": 2
}

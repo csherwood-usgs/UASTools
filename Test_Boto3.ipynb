{
 "cells": [
  {
   "cell_type": "code",
   "execution_count": 1,
   "metadata": {},
   "outputs": [],
   "source": [
    "import boto3\n",
    "s3=boto3.resource('s3')"
   ]
  },
  {
   "cell_type": "code",
   "execution_count": 2,
   "metadata": {},
   "outputs": [
    {
     "name": "stdout",
     "output_type": "stream",
     "text": [
      "cf-templates-kbodyp6ks8fs-us-west-2\n",
      "cmgp-coawst\n",
      "cmgp-sfm\n",
      "config-bucket-016804101898\n",
      "csr-adminbucket-016804101898\n",
      "dev-chs-test-coastalmap\n",
      "dev-cmgp\n",
      "dev-cmgp-cf-scripts\n",
      "devcmgp-cloudtrail\n"
     ]
    }
   ],
   "source": [
    "# Print out bucket names\n",
    "for bucket in s3.buckets.all():\n",
    "    print(bucket.name)"
   ]
  },
  {
   "cell_type": "code",
   "execution_count": 3,
   "metadata": {},
   "outputs": [
    {
     "data": {
      "text/plain": [
       "s3.Object(bucket_name='cmgp-sfm', key='test.jpg')"
      ]
     },
     "execution_count": 3,
     "metadata": {},
     "output_type": "execute_result"
    }
   ],
   "source": [
    "# Upload a new file\n",
    "data = open('DJI_0012.jpg', 'rb')\n",
    "s3.Bucket('cmgp-sfm').put_object(Key='test.jpg', Body=data)"
   ]
  },
  {
   "cell_type": "code",
   "execution_count": 8,
   "metadata": {},
   "outputs": [],
   "source": [
    "# Copy files among s3 buckets\n",
    "copy_source = {\n",
    "      'Bucket': 'cmgp-sfm',\n",
    "      'Key': 'test.jpg'\n",
    "    }\n",
    "bucket = s3.Bucket('cmgp-sfm')\n",
    "bucket.copy(copy_source, 'sandbox/copy_test.jpg')"
   ]
  },
  {
   "cell_type": "code",
   "execution_count": null,
   "metadata": {},
   "outputs": [],
   "source": []
  }
 ],
 "metadata": {
  "kernelspec": {
   "display_name": "Python 3",
   "language": "python",
   "name": "python3"
  },
  "language_info": {
   "codemirror_mode": {
    "name": "ipython",
    "version": 3
   },
   "file_extension": ".py",
   "mimetype": "text/x-python",
   "name": "python",
   "nbconvert_exporter": "python",
   "pygments_lexer": "ipython3",
   "version": "3.7.3"
  }
 },
 "nbformat": 4,
 "nbformat_minor": 2
}

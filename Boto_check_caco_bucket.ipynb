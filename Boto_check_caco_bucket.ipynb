{
 "cells": [
  {
   "cell_type": "code",
   "execution_count": 33,
   "metadata": {},
   "outputs": [
    {
     "name": "stdout",
     "output_type": "stream",
     "text": [
      "ts =  1577098800.0\n",
      "dec23 =  157709\n",
      "Current time stamp:  1577211660.359384\n",
      "157721\n",
      "cameras/caco-01/products/1577095200.c1.snap.jpg 2019-12-23 10:45:34+00:00 176654\n",
      "Mon Dec 23 05:00:00 2019\n",
      "cameras/caco-01/products/1577095200.c2.snap.jpg 2019-12-23 10:45:35+00:00 172547\n",
      "Mon Dec 23 05:00:00 2019\n",
      "cameras/caco-01/products/1577095201.c1.timex.jpg 2019-12-23 10:45:35+00:00 97456\n",
      "Mon Dec 23 05:00:01 2019\n",
      "cameras/caco-01/products/1577095201.c2.timex.jpg 2019-12-23 10:45:36+00:00 96136\n",
      "Mon Dec 23 05:00:01 2019\n",
      "cameras/caco-01/products/1577095202.c1.var.jpg 2019-12-23 10:45:36+00:00 114136\n",
      "Mon Dec 23 05:00:02 2019\n",
      "cameras/caco-01/products/1577095202.c2.var.jpg 2019-12-23 10:45:36+00:00 136410\n",
      "Mon Dec 23 05:00:02 2019\n",
      "cameras/caco-01/products/1577095203.c1.bright.jpg 2019-12-23 10:45:37+00:00 209214\n",
      "Mon Dec 23 05:00:03 2019\n",
      "cameras/caco-01/products/1577095203.c2.bright.jpg 2019-12-23 10:45:37+00:00 200170\n",
      "Mon Dec 23 05:00:03 2019\n",
      "cameras/caco-01/products/1577095204.c1.dark.jpg 2019-12-23 10:45:38+00:00 149493\n",
      "Mon Dec 23 05:00:04 2019\n",
      "cameras/caco-01/products/1577095204.c2.dark.jpg 2019-12-23 10:45:38+00:00 147181\n",
      "Mon Dec 23 05:00:04 2019\n",
      "cameras/caco-01/products/1577095205.c1.rundark.jpg 2019-12-23 10:45:38+00:00 131191\n",
      "Mon Dec 23 05:00:05 2019\n",
      "cameras/caco-01/products/1577095205.c2.rundark.jpg 2019-12-23 10:45:39+00:00 129949\n",
      "Mon Dec 23 05:00:05 2019\n",
      "cameras/caco-01/products/1577097000.c1.snap.jpg 2019-12-23 10:45:39+00:00 176712\n",
      "Mon Dec 23 05:30:00 2019\n",
      "cameras/caco-01/products/1577097000.c2.snap.jpg 2019-12-23 10:45:40+00:00 171452\n",
      "Mon Dec 23 05:30:00 2019\n",
      "cameras/caco-01/products/1577097001.c1.timex.jpg 2019-12-23 10:45:40+00:00 97171\n",
      "Mon Dec 23 05:30:01 2019\n",
      "cameras/caco-01/products/1577097001.c2.timex.jpg 2019-12-23 10:45:40+00:00 96248\n",
      "Mon Dec 23 05:30:01 2019\n",
      "cameras/caco-01/products/1577097002.c1.var.jpg 2019-12-23 10:45:41+00:00 110787\n",
      "Mon Dec 23 05:30:02 2019\n",
      "cameras/caco-01/products/1577097002.c2.var.jpg 2019-12-23 10:45:41+00:00 135655\n",
      "Mon Dec 23 05:30:02 2019\n",
      "cameras/caco-01/products/1577097003.c1.bright.jpg 2019-12-23 10:45:41+00:00 209035\n",
      "Mon Dec 23 05:30:03 2019\n",
      "cameras/caco-01/products/1577097003.c2.bright.jpg 2019-12-23 10:45:42+00:00 200047\n",
      "Mon Dec 23 05:30:03 2019\n",
      "cameras/caco-01/products/1577097004.c1.dark.jpg 2019-12-23 10:45:42+00:00 149697\n",
      "Mon Dec 23 05:30:04 2019\n",
      "cameras/caco-01/products/1577097004.c2.dark.jpg 2019-12-23 10:45:43+00:00 147379\n",
      "Mon Dec 23 05:30:04 2019\n",
      "cameras/caco-01/products/1577097005.c1.rundark.jpg 2019-12-23 10:45:43+00:00 131245\n",
      "Mon Dec 23 05:30:05 2019\n",
      "cameras/caco-01/products/1577097005.c2.rundark.jpg 2019-12-23 10:45:43+00:00 130335\n",
      "Mon Dec 23 05:30:05 2019\n",
      "cameras/caco-01/products/1577098800.c1.snap.jpg 2019-12-23 11:45:33+00:00 179151\n",
      "Mon Dec 23 06:00:00 2019\n",
      "cameras/caco-01/products/1577098800.c2.snap.jpg 2019-12-23 11:45:34+00:00 171497\n",
      "Mon Dec 23 06:00:00 2019\n",
      "cameras/caco-01/products/1577098801.c1.timex.jpg 2019-12-23 11:45:34+00:00 101017\n",
      "Mon Dec 23 06:00:01 2019\n",
      "cameras/caco-01/products/1577098801.c2.timex.jpg 2019-12-23 11:45:34+00:00 99394\n",
      "Mon Dec 23 06:00:01 2019\n",
      "cameras/caco-01/products/1577098802.c1.var.jpg 2019-12-23 11:45:35+00:00 110065\n",
      "Mon Dec 23 06:00:02 2019\n",
      "cameras/caco-01/products/1577098802.c2.var.jpg 2019-12-23 11:45:35+00:00 135525\n",
      "Mon Dec 23 06:00:02 2019\n",
      "cameras/caco-01/products/1577098803.c1.bright.jpg 2019-12-23 11:45:36+00:00 207882\n",
      "Mon Dec 23 06:00:03 2019\n",
      "cameras/caco-01/products/1577098803.c2.bright.jpg 2019-12-23 11:45:36+00:00 199608\n",
      "Mon Dec 23 06:00:03 2019\n",
      "cameras/caco-01/products/1577098804.c1.dark.jpg 2019-12-23 11:45:37+00:00 150434\n",
      "Mon Dec 23 06:00:04 2019\n",
      "cameras/caco-01/products/1577098804.c2.dark.jpg 2019-12-23 11:45:37+00:00 147403\n",
      "Mon Dec 23 06:00:04 2019\n",
      "cameras/caco-01/products/1577098805.c1.rundark.jpg 2019-12-23 11:45:38+00:00 130762\n",
      "Mon Dec 23 06:00:05 2019\n",
      "cameras/caco-01/products/1577098805.c2.rundark.jpg 2019-12-23 11:45:38+00:00 129640\n",
      "Mon Dec 23 06:00:05 2019\n"
     ]
    }
   ],
   "source": [
    "import datetime\n",
    "import boto3\n",
    "\n",
    "date_time_str = '2019-12-23 06:00'\n",
    "date_time_obj = datetime.datetime.strptime(date_time_str, '%Y-%m-%d %H:%M')\n",
    "ts = date_time_obj.timestamp()\n",
    "print('ts = ',ts)\n",
    "dec23 = str(int(ts/10000.))\n",
    "print('dec23 = ',dec23)\n",
    "\n",
    "tsNow = datetime.datetime.now().timestamp()\n",
    "print(\"Current time stamp: \",tsNow)\n",
    "dayn = str(int(tsNow/10000.))\n",
    "print(dayn)\n",
    "\n",
    "# set profile when desired profile is not the default profile\n",
    "boto3.setup_default_session(profile_name='coastcam')\n",
    "\n",
    "s3=boto3.resource('s3')\n",
    "# Print out file names in\n",
    "bucket = s3.Bucket('cmgp-coastcam')\n",
    "for obj in bucket.objects.filter(Prefix=\"cameras/caco-01/products/\"):\n",
    "    if dec23 in obj.key:\n",
    "        print(obj.key, obj.last_modified, obj.size)\n",
    "        # extract epoch time from filename\n",
    "        e = int(obj.key[25:35])\n",
    "        t = datetime.datetime.fromtimestamp(e).strftime('%c')\n",
    "        print(t)"
   ]
  },
  {
   "cell_type": "code",
   "execution_count": 13,
   "metadata": {},
   "outputs": [
    {
     "data": {
      "text/plain": [
       "str"
      ]
     },
     "execution_count": 13,
     "metadata": {},
     "output_type": "execute_result"
    }
   ],
   "source": [
    "type(obj.key)"
   ]
  }
 ],
 "metadata": {
  "kernelspec": {
   "display_name": "Python 3",
   "language": "python",
   "name": "python3"
  },
  "language_info": {
   "codemirror_mode": {
    "name": "ipython",
    "version": 3
   },
   "file_extension": ".py",
   "mimetype": "text/x-python",
   "name": "python",
   "nbconvert_exporter": "python",
   "pygments_lexer": "ipython3",
   "version": "3.7.3"
  }
 },
 "nbformat": 4,
 "nbformat_minor": 2
}

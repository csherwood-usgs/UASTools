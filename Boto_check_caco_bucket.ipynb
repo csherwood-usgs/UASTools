{
 "cells": [
  {
   "cell_type": "code",
   "execution_count": 2,
   "metadata": {},
   "outputs": [
    {
     "name": "stdout",
     "output_type": "stream",
     "text": [
      "ts =  1595066400.0\n",
      "qday =  1595066\n",
      "Current time stamp:  1595353322.372959\n",
      "159535\n"
     ]
    }
   ],
   "source": [
    "import datetime\n",
    "import boto3\n",
    "\n",
    "date_time_str = '2020-07-18 06:00'\n",
    "date_time_obj = datetime.datetime.strptime(date_time_str, '%Y-%m-%d %H:%M')\n",
    "ts = date_time_obj.timestamp()\n",
    "print('ts = ',ts)\n",
    "qday = str(int(ts/1000.))\n",
    "print('qday = ',qday)\n",
    "\n",
    "tsNow = datetime.datetime.now().timestamp()\n",
    "print(\"Current time stamp: \",tsNow)\n",
    "dayn = str(int(tsNow/10000.))\n",
    "print(dayn)"
   ]
  },
  {
   "cell_type": "code",
   "execution_count": 3,
   "metadata": {},
   "outputs": [
    {
     "name": "stdout",
     "output_type": "stream",
     "text": [
      "cameras/caco-01/products/1595066400.c1.snap.jpg 2020-07-18 10:52:45+00:00 187709\n",
      "Sat Jul 18 06:00:00 2020\n",
      "cameras/caco-01/products/1595066400.c2.snap.jpg 2020-07-18 10:52:46+00:00 178316\n",
      "Sat Jul 18 06:00:00 2020\n",
      "cameras/caco-01/products/1595066401.c1.timex.jpg 2020-07-18 10:52:46+00:00 161224\n",
      "Sat Jul 18 06:00:01 2020\n",
      "cameras/caco-01/products/1595066401.c2.timex.jpg 2020-07-18 10:52:47+00:00 158307\n",
      "Sat Jul 18 06:00:01 2020\n",
      "cameras/caco-01/products/1595066402.c1.var.jpg 2020-07-18 10:52:47+00:00 107466\n",
      "Sat Jul 18 06:00:02 2020\n",
      "cameras/caco-01/products/1595066402.c2.var.jpg 2020-07-18 10:52:48+00:00 108160\n",
      "Sat Jul 18 06:00:02 2020\n",
      "cameras/caco-01/products/1595066403.c1.bright.jpg 2020-07-18 10:52:48+00:00 176324\n",
      "Sat Jul 18 06:00:03 2020\n",
      "cameras/caco-01/products/1595066403.c2.bright.jpg 2020-07-18 10:52:48+00:00 167343\n",
      "Sat Jul 18 06:00:03 2020\n",
      "cameras/caco-01/products/1595066404.c1.dark.jpg 2020-07-18 10:52:49+00:00 159608\n",
      "Sat Jul 18 06:00:04 2020\n",
      "cameras/caco-01/products/1595066404.c2.dark.jpg 2020-07-18 10:52:49+00:00 160037\n",
      "Sat Jul 18 06:00:04 2020\n",
      "cameras/caco-01/products/1595066405.c1.rundark.jpg 2020-07-18 10:52:50+00:00 132808\n",
      "Sat Jul 18 06:00:05 2020\n",
      "cameras/caco-01/products/1595066405.c2.rundark.jpg 2020-07-18 10:52:50+00:00 134356\n",
      "Sat Jul 18 06:00:05 2020\n"
     ]
    }
   ],
   "source": [
    "# set profile when desired profile is not the default profile\n",
    "boto3.setup_default_session(profile_name='coastcam')\n",
    "\n",
    "s3=boto3.resource('s3')\n",
    "# Print out file names in\n",
    "bucket = s3.Bucket('cmgp-coastcam')\n",
    "\n",
    "for obj in bucket.objects.filter(Prefix=\"cameras/caco-01/products/\"):\n",
    "    if qday in obj.key:\n",
    "        print(obj.key, obj.last_modified, obj.size)\n",
    "        # extract epoch time from filename\n",
    "        e = int(obj.key[25:35])\n",
    "        t = datetime.datetime.fromtimestamp(e).strftime('%c')\n",
    "        print(t)"
   ]
  },
  {
   "cell_type": "code",
   "execution_count": 13,
   "metadata": {},
   "outputs": [
    {
     "data": {
      "text/plain": [
       "str"
      ]
     },
     "execution_count": 13,
     "metadata": {},
     "output_type": "execute_result"
    }
   ],
   "source": [
    "type(obj.key)"
   ]
  }
 ],
 "metadata": {
  "kernelspec": {
   "display_name": "Python 3",
   "language": "python",
   "name": "python3"
  },
  "language_info": {
   "codemirror_mode": {
    "name": "ipython",
    "version": 3
   },
   "file_extension": ".py",
   "mimetype": "text/x-python",
   "name": "python",
   "nbconvert_exporter": "python",
   "pygments_lexer": "ipython3",
   "version": "3.7.6"
  }
 },
 "nbformat": 4,
 "nbformat_minor": 2
}

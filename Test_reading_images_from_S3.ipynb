{
 "cells": [
  {
   "cell_type": "code",
   "execution_count": 1,
   "metadata": {},
   "outputs": [],
   "source": [
    "from PIL import Image\n",
    "from PIL.ExifTags import TAGS, GPSTAGS"
   ]
  },
  {
   "cell_type": "code",
   "execution_count": 2,
   "metadata": {},
   "outputs": [],
   "source": [
    "pth = 'C:\\\\crs\\\\docs\\\\pics\\\\DJI_0030.JPG'\n",
    "#url = 's3://cmgp-sfm/2019-10_OBX/field-jpg/2019-1010-143516-DSC09588_N7251F.jpg'\n",
    "\n",
    "try:\n",
    "    img = Image.open(pth)\n",
    "    img.show()\n",
    "except:\n",
    "    print(\"Cant open file.\")"
   ]
  },
  {
   "cell_type": "code",
   "execution_count": 3,
   "metadata": {},
   "outputs": [],
   "source": [
    "# Read in an image from a URL\n",
    "# https://stackoverflow.com/questions/7391945/how-do-i-read-image-data-from-a-url-in-python\n",
    "\n",
    "# This S3 directory is pulic access...you should \n",
    "url = r'https://cmgp-coastcam.s3-us-west-2.amazonaws.com/cameras/caco-01/latest/c1_snap.jpg'\n",
    "\n",
    "import requests\n",
    "from io import BytesIO\n",
    "\n",
    "try:\n",
    "    response = requests.get(url)\n",
    "    img2 = Image.open(BytesIO(response.content))\n",
    "    img2.show()\n",
    "except:\n",
    "    print(\"Cant open url\")"
   ]
  },
  {
   "cell_type": "markdown",
   "metadata": {},
   "source": [
    "#### This file is not public. Two ways to id it:\n",
    "* s3://cmgp-coastcam/cameras/caco-01/products/1576692000.c1.snap.jpg\n",
    "* https://cmgp-coastcam.s3-us-west-2.amazonaws.com/cameras/caco-01/products/1576692000.c1.snap.jpg\n"
   ]
  },
  {
   "cell_type": "code",
   "execution_count": 4,
   "metadata": {},
   "outputs": [],
   "source": [
    "import boto3\n",
    "\n",
    "# I have to use the profile_name argument because my default profile is for a different CHS account\n",
    "session = boto3.session.Session(profile_name='coastcam')\n",
    "s3 = boto3.resource('s3')\n",
    "bucket = 'cmgp-coastcam'\n",
    "src_key='cameras/caco-01/products/1576692000.c1.snap.jpg'\n",
    "f='C:\\\\crs\\\\tmp\\\\tempfile.jpg'\n",
    "\n",
    "s3_client = session.client('s3')\n",
    "dest = 'C:\\\\crs\\\\tmp\\\\copy_test.jpg'\n",
    "s3_client.download_file(bucket, src_key, dest)\n",
    "\n",
    "img3 = Image.open(dest)\n",
    "img3.show()"
   ]
  }
 ],
 "metadata": {
  "kernelspec": {
   "display_name": "Python 3",
   "language": "python",
   "name": "python3"
  },
  "language_info": {
   "codemirror_mode": {
    "name": "ipython",
    "version": 3
   },
   "file_extension": ".py",
   "mimetype": "text/x-python",
   "name": "python",
   "nbconvert_exporter": "python",
   "pygments_lexer": "ipython3",
   "version": "3.7.6"
  }
 },
 "nbformat": 4,
 "nbformat_minor": 2
}

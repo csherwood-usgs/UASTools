{
 "cells": [
  {
   "cell_type": "code",
   "execution_count": 1,
   "metadata": {
    "ExecuteTime": {
     "end_time": "2017-05-16T20:21:51.969000",
     "start_time": "2017-05-16T20:21:49.230000"
    },
    "collapsed": true
   },
   "outputs": [],
   "source": [
    "import matplotlib.pyplot as plt\n",
    "import numpy as np\n",
    "import os\n",
    "from PIL import Image, ExifTags\n",
    "from datetime import datetime\n",
    "import pandas as pd\n",
    "from lxml import etree\n",
    "%matplotlib inline\n",
    "%config InlineBackend.figure_format = 'svg'"
   ]
  },
  {
   "cell_type": "code",
   "execution_count": 6,
   "metadata": {
    "ExecuteTime": {
     "end_time": "2017-05-16T20:32:31.074000",
     "start_time": "2017-05-16T20:32:31.065000"
    },
    "collapsed": false
   },
   "outputs": [
    {
     "name": "stdout",
     "output_type": "stream",
     "text": [
      "['..\\\\uas\\\\solo2.gpx', '..\\\\uas\\\\solo3.gpx', '..\\\\uas\\\\solo4.gpx', '..\\\\uas\\\\solo5.gpx', '..\\\\uas\\\\solo6.gpx', '..\\\\uas\\\\solo7.gpx', '..\\\\uas\\\\solo9.gpx']\n"
     ]
    }
   ],
   "source": [
    "# This is where the elements of the xml (gpx) file are defined\n",
    "namespace = {'def': 'http://www.topografix.com/GPX/1/1'}\n",
    "\n",
    "# get list of .gpx files the requested path (I have them in another folder at the same level)\n",
    "path = '..\\uas'\n",
    "glist=[os.path.join(path,g) for g in os.listdir(path) if ( g.endswith('.gpx') or g.endswith('.GPX'))]\n",
    "print(glist)"
   ]
  },
  {
   "cell_type": "code",
   "execution_count": 7,
   "metadata": {
    "ExecuteTime": {
     "end_time": "2017-05-16T20:32:46.011000",
     "start_time": "2017-05-16T20:32:42.905000"
    },
    "collapsed": false
   },
   "outputs": [
    {
     "name": "stdout",
     "output_type": "stream",
     "text": [
      "..\\uas\\solo2.gpx\n",
      "(datetime.datetime(2017, 5, 4, 14, 14), datetime.datetime(2017, 5, 4, 14, 28, 38), (14466L,))\n",
      "..\\uas\\solo3.gpx\n",
      "(datetime.datetime(2017, 5, 4, 13, 52, 31), datetime.datetime(2017, 5, 4, 14, 14), (9911L,))\n",
      "..\\uas\\solo4.gpx\n",
      "(datetime.datetime(2017, 5, 4, 13, 29, 14), datetime.datetime(2017, 5, 4, 13, 52, 31), (7640L,))\n",
      "..\\uas\\solo5.gpx\n",
      "(datetime.datetime(2017, 5, 4, 13, 1, 35), datetime.datetime(2017, 5, 4, 13, 29, 13), (10633L,))\n",
      "..\\uas\\solo6.gpx\n",
      "(datetime.datetime(2017, 5, 4, 12, 41, 1), datetime.datetime(2017, 5, 4, 13, 1, 34), (8320L,))\n",
      "..\\uas\\solo7.gpx\n",
      "(datetime.datetime(2017, 5, 4, 12, 23, 21), datetime.datetime(2017, 5, 4, 12, 41, 1), (7790L,))\n",
      "..\\uas\\solo9.gpx\n",
      "(datetime.datetime(2017, 5, 4, 12, 3, 40), datetime.datetime(2017, 5, 4, 12, 18, 40), (8361L,))\n"
     ]
    }
   ],
   "source": [
    "#parse the gpx file and report start and end time\n",
    "#TODO - Do something more useful with the time zone info\n",
    "for f in glist:\n",
    "    tree = etree.parse(f)\n",
    "    elist = tree.xpath('./def:trk//def:trkpt//def:time',namespaces=namespace)\n",
    "    fmt = '%Y-%m-%dT%H:%M:%S-04:00' #2017-05-04T14:14:12-04:00\n",
    "    time = [datetime.strptime(e.text, fmt) for e in elist]\n",
    "    print(f)\n",
    "    print(time[0],time[-1], np.shape(time))"
   ]
  },
  {
   "cell_type": "code",
   "execution_count": 12,
   "metadata": {
    "ExecuteTime": {
     "end_time": "2017-05-16T20:51:29.907000",
     "start_time": "2017-05-16T20:51:29.877000"
    },
    "collapsed": false
   },
   "outputs": [
    {
     "name": "stdout",
     "output_type": "stream",
     "text": [
      "('..\\\\uas\\\\A2002801.JPG', u'2017:05:04 17:36:48')\n",
      "('..\\\\uas\\\\A2002802.JPG', u'2017:05:04 17:36:50')\n",
      "('..\\\\uas\\\\A2002803.JPG', u'2017:05:04 17:36:52')\n",
      "('..\\\\uas\\\\A2002804.JPG', u'2017:05:04 17:36:54')\n"
     ]
    }
   ],
   "source": [
    "# get a list of images files\n",
    "path = '..\\uas'\n",
    "flist=[os.path.join(path,f) for f in os.listdir(path) if ( f.endswith('.jpg') or f.endswith('.JPG'))]\n",
    "\n",
    "# read and print the time stamp\n",
    "for f in flist:\n",
    "    t=Image.open(f)._getexif()[36867]\n",
    "    print(f,t)\n",
    "\n",
    "# this does the same thing but makes a datetime array   \n",
    "fmt = '%Y:%m:%d %H:%M:%S' #2017-05-04T14:14:12-04:00\n",
    "pictime = [datetime.strptime(Image.open(f)._getexif()[36867], fmt) for f in flist]"
   ]
  },
  {
   "cell_type": "code",
   "execution_count": null,
   "metadata": {
    "collapsed": true
   },
   "outputs": [],
   "source": [
    "elist = tree.xpath('./def:trk//def:trkpt',namespaces=namespace)\n",
    "lonlat = [e.values() for e in elist]\n",
    "lonlat = np.array(lonlat,dtype=\"float\")\n",
    "print(lonlat[0])\n",
    "print(np.shape(lonlat))\n",
    "\n",
    "# This works\n",
    "elist = tree.xpath('./def:trk//def:trkpt//def:time',namespaces=namespace)\n",
    "fmt = '%Y-%m-%dT%H:%M:%S-04:00' #2017-05-04T14:14:12-04:00\n",
    "time = [datetime.strptime(e.text, fmt) for e in elist]\n",
    "print(time[0],time[-1], np.shape(time))\n",
    "\n",
    "\n",
    "plt.plot(lonlat[:,1],lonlat[:,0])\n",
    "plt.show()\n",
    "\n",
    "\n",
    "\n",
    "# This works\n",
    "elist = tree.xpath('./def:trk//def:trkpt//def:ele',namespaces=namespace)\n",
    "ele = np.array([float(e.text) for e in elist])\n",
    "print(ele[0], np.shape(ele))\n",
    "print(np.shape(elist))\n",
    "\n",
    "# This works\n",
    "elist = tree.xpath('./def:trk//def:trkpt//def:ele2',namespaces=namespace)\n",
    "ele2 = np.array([float(e.text) for e in elist])\n",
    "print(ele2[0], np.shape(ele2))\n",
    "print(np.shape(elist))\n",
    "\n",
    "# get a list of images files\n",
    "path = '.'\n",
    "flist=[os.path.join(path,f) for f in os.listdir(path) if ( f.endswith('.jpg') or f.endswith('.JPG'))]\n",
    "\n",
    "# print the time stamp\n",
    "for f in flist:\n",
    "    t=Image.open(f)._getexif()[36867]\n",
    "    print(f,t)\n",
    "\n",
    "\n",
    "\n",
    "# here is how to get all of the exif info:\n",
    "# img = Image.open(flist[0])\n",
    "# exif_data = img._getexif()\n",
    "# exif = { ExifTags.TAGS[k]: v for k, v in img._getexif().items() if k in ExifTags.TAGS }\n",
    "# print(exif)"
   ]
  }
 ],
 "metadata": {
  "kernelspec": {
   "display_name": "Python 2",
   "language": "python",
   "name": "python2"
  },
  "language_info": {
   "codemirror_mode": {
    "name": "ipython",
    "version": 2
   },
   "file_extension": ".py",
   "mimetype": "text/x-python",
   "name": "python",
   "nbconvert_exporter": "python",
   "pygments_lexer": "ipython2",
   "version": "2.7.12"
  }
 },
 "nbformat": 4,
 "nbformat_minor": 0
}

{
 "cells": [
  {
   "cell_type": "code",
   "execution_count": 1,
   "metadata": {
    "ExecuteTime": {
     "end_time": "2017-05-17T18:42:57.258000",
     "start_time": "2017-05-17T18:42:57.226000"
    },
    "collapsed": true,
    "deletable": true,
    "editable": true
   },
   "outputs": [],
   "source": [
    "import matplotlib.pyplot as plt\n",
    "import numpy as np\n",
    "import os\n",
    "from PIL import Image, ExifTags\n",
    "import datetime as dt\n",
    "import pandas as pd\n",
    "from lxml import etree\n",
    "%matplotlib inline\n",
    "%config InlineBackend.figure_format = 'svg'"
   ]
  },
  {
   "cell_type": "code",
   "execution_count": 2,
   "metadata": {
    "ExecuteTime": {
     "end_time": "2017-05-17T18:45:03.607000",
     "start_time": "2017-05-17T18:45:03.564000"
    },
    "collapsed": false,
    "deletable": true,
    "editable": true
   },
   "outputs": [
    {
     "name": "stdout",
     "output_type": "stream",
     "text": [
      "2012-02-13 06:56:02.618997 734912.2889192014 734912.2889192014\n",
      "2012-02-13 07:01:02.619000\n"
     ]
    }
   ],
   "source": [
    "def matlabdn2datetime(dn):\n",
    "    \"\"\"http://stackoverflow.com/questions/13965740/converting-matlabs-datenum-format-to-python\"\"\"\n",
    "    day = dt.datetime.fromordinal(int(dn))\n",
    "    dayfrac = dt.timedelta(days=dn%1) - dt.timedelta(days = 366)\n",
    "    return day + dayfrac\n",
    "\n",
    "def datetime2matlabdn(dtn):\n",
    "   '''http://stackoverflow.com/questions/8776414/python-datetime-to-matlab-datenum'''\n",
    "   mdn = dtn + dt.timedelta(days = 366)\n",
    "   frac_seconds = (dtn-dt.datetime(dtn.year,dtn.month,dtn.day,0,0,0)).seconds / (24.0 * 60.0 * 60.0)\n",
    "   frac_microseconds = dtn.microsecond / (24.0 * 60.0 * 60.0 * 1000000.0)\n",
    "   return mdn.toordinal() + frac_seconds + frac_microseconds\n",
    "\n",
    "dtn=dt.datetime(2012, 2, 13, 6, 56, 2, 619000)\n",
    "dn=datetime2matlabdn(dtn)\n",
    "dtn2 = matlabdn2datetime(dn)\n",
    "dn2 =datetime2matlabdn(dtn2)\n",
    "print(dtn2,dn,dn2)\n",
    "print(dtn+dt.timedelta(minutes=5.))"
   ]
  },
  {
   "cell_type": "code",
   "execution_count": 4,
   "metadata": {
    "ExecuteTime": {
     "end_time": "2017-05-16T20:32:31.074000",
     "start_time": "2017-05-16T20:32:31.065000"
    },
    "collapsed": false,
    "deletable": true,
    "editable": true
   },
   "outputs": [
    {
     "name": "stdout",
     "output_type": "stream",
     "text": [
      "['../uas\\\\solo2.gpx', '../uas\\\\solo3.gpx', '../uas\\\\solo4.gpx', '../uas\\\\solo5.gpx', '../uas\\\\solo6.gpx', '../uas\\\\solo7.gpx', '../uas\\\\solo9.gpx']\n"
     ]
    }
   ],
   "source": [
    "# This is where the elements of the xml (gpx) file are defined\n",
    "namespace = {'def': 'http://www.topografix.com/GPX/1/1'}\n",
    "\n",
    "# get list of .gpx files the requested path (I have them in another folder at the same level)\n",
    "path = '../uas'\n",
    "glist=[os.path.join(path,g) for g in os.listdir(path) if ( g.endswith('.gpx') or g.endswith('.GPX'))]\n",
    "print(glist)"
   ]
  },
  {
   "cell_type": "code",
   "execution_count": 6,
   "metadata": {
    "ExecuteTime": {
     "end_time": "2017-05-16T20:32:46.011000",
     "start_time": "2017-05-16T20:32:42.905000"
    },
    "collapsed": false,
    "deletable": true,
    "editable": true
   },
   "outputs": [
    {
     "name": "stdout",
     "output_type": "stream",
     "text": [
      "../uas\\solo2.gpx\n",
      "2017-05-04 14:14:00 2017-05-04 14:28:38 (14466,)\n",
      "../uas\\solo3.gpx\n",
      "2017-05-04 13:52:31 2017-05-04 14:14:00 (9911,)\n",
      "../uas\\solo4.gpx\n",
      "2017-05-04 13:29:14 2017-05-04 13:52:31 (7640,)\n",
      "../uas\\solo5.gpx\n",
      "2017-05-04 13:01:35 2017-05-04 13:29:13 (10633,)\n",
      "../uas\\solo6.gpx\n",
      "2017-05-04 12:41:01 2017-05-04 13:01:34 (8320,)\n",
      "../uas\\solo7.gpx\n",
      "2017-05-04 12:23:21 2017-05-04 12:41:01 (7790,)\n",
      "../uas\\solo9.gpx\n",
      "2017-05-04 12:03:40 2017-05-04 12:18:40 (8361,)\n"
     ]
    }
   ],
   "source": [
    "#parse the gpx file and report start and end time\n",
    "#TODO - Do something more useful with the time zone info\n",
    "for f in glist:\n",
    "    tree = etree.parse(f)\n",
    "    elist = tree.xpath('./def:trk//def:trkpt//def:time',namespaces=namespace)\n",
    "    fmt = '%Y-%m-%dT%H:%M:%S-04:00' #2017-05-04T14:14:12-04:00\n",
    "    time = [dt.datetime.strptime(e.text, fmt) for e in elist]\n",
    "    print(f)\n",
    "    print(time[0],time[-1], np.shape(time))"
   ]
  },
  {
   "cell_type": "code",
   "execution_count": null,
   "metadata": {
    "ExecuteTime": {
     "end_time": "2017-05-16T20:51:29.907000",
     "start_time": "2017-05-16T20:51:29.877000"
    },
    "collapsed": false,
    "deletable": true,
    "editable": true
   },
   "outputs": [],
   "source": [
    "# get a list of images files\n",
    "path = '..\\uas'\n",
    "flist=[os.path.join(path,f) for f in os.listdir(path) if ( f.endswith('.jpg') or f.endswith('.JPG'))]\n",
    "\n",
    "# read and print the time stamp\n",
    "for f in flist:\n",
    "    t=Image.open(f)._getexif()[36867]\n",
    "    print(f,t)\n",
    "\n",
    "# this does the same thing but makes a datetime array   \n",
    "fmt = '%Y:%m:%d %H:%M:%S' #2017-05-04T14:14:12-04:00\n",
    "pictime = [datetime.strptime(Image.open(f)._getexif()[36867], fmt) for f in flist]"
   ]
  },
  {
   "cell_type": "code",
   "execution_count": null,
   "metadata": {
    "collapsed": true,
    "deletable": true,
    "editable": true
   },
   "outputs": [],
   "source": [
    "elist = tree.xpath('./def:trk//def:trkpt',namespaces=namespace)\n",
    "lonlat = [e.values() for e in elist]\n",
    "lonlat = np.array(lonlat,dtype=\"float\")\n",
    "print(lonlat[0])\n",
    "print(np.shape(lonlat))\n",
    "\n",
    "# This works\n",
    "elist = tree.xpath('./def:trk//def:trkpt//def:time',namespaces=namespace)\n",
    "fmt = '%Y-%m-%dT%H:%M:%S-04:00' #2017-05-04T14:14:12-04:00\n",
    "time = [datetime.strptime(e.text, fmt) for e in elist]\n",
    "print(time[0],time[-1], np.shape(time))\n",
    "\n",
    "\n",
    "plt.plot(lonlat[:,1],lonlat[:,0])\n",
    "plt.show()\n",
    "\n",
    "\n",
    "\n",
    "# This works\n",
    "elist = tree.xpath('./def:trk//def:trkpt//def:ele',namespaces=namespace)\n",
    "ele = np.array([float(e.text) for e in elist])\n",
    "print(ele[0], np.shape(ele))\n",
    "print(np.shape(elist))\n",
    "\n",
    "# This works\n",
    "elist = tree.xpath('./def:trk//def:trkpt//def:ele2',namespaces=namespace)\n",
    "ele2 = np.array([float(e.text) for e in elist])\n",
    "print(ele2[0], np.shape(ele2))\n",
    "print(np.shape(elist))\n",
    "\n",
    "# get a list of images files\n",
    "path = '.'\n",
    "flist=[os.path.join(path,f) for f in os.listdir(path) if ( f.endswith('.jpg') or f.endswith('.JPG'))]\n",
    "\n",
    "# print the time stamp\n",
    "for f in flist:\n",
    "    t=Image.open(f)._getexif()[36867]\n",
    "    print(f,t)\n",
    "\n",
    "\n",
    "\n",
    "# here is how to get all of the exif info:\n",
    "# img = Image.open(flist[0])\n",
    "# exif_data = img._getexif()\n",
    "# exif = { ExifTags.TAGS[k]: v for k, v in img._getexif().items() if k in ExifTags.TAGS }\n",
    "# print(exif)"
   ]
  }
 ],
 "metadata": {
  "kernelspec": {
   "display_name": "Python [conda env:IOOS3]",
   "language": "python",
   "name": "conda-env-IOOS3-py"
  },
  "language_info": {
   "codemirror_mode": {
    "name": "ipython",
    "version": 3
   },
   "file_extension": ".py",
   "mimetype": "text/x-python",
   "name": "python",
   "nbconvert_exporter": "python",
   "pygments_lexer": "ipython3",
   "version": "3.6.0"
  }
 },
 "nbformat": 4,
 "nbformat_minor": 0
}

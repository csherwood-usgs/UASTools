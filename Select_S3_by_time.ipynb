{
 "cells": [
  {
   "cell_type": "code",
   "execution_count": 1,
   "metadata": {},
   "outputs": [],
   "source": [
    "# Select_S3_by_time"
   ]
  },
  {
   "cell_type": "code",
   "execution_count": 2,
   "metadata": {},
   "outputs": [
    {
     "name": "stdout",
     "output_type": "stream",
     "text": [
      "1583326800\n",
      "None\n",
      "time.struct_time(tm_year=2020, tm_mon=3, tm_mday=4, tm_hour=8, tm_min=0, tm_sec=0, tm_wday=2, tm_yday=64, tm_isdst=-1)\n",
      "time.struct_time(tm_year=2020, tm_mon=3, tm_mday=4, tm_hour=13, tm_min=0, tm_sec=0, tm_wday=2, tm_yday=64, tm_isdst=0)\n"
     ]
    }
   ],
   "source": [
    "import os\n",
    "import pandas as pd\n",
    "import boto3\n",
    "import matplotlib.pyplot as plt\n",
    "%matplotlib inline\n",
    "import time\n",
    "date_time = '29.08.2011 11:00:00'\n",
    "pattern = '%d.%m.%Y %H:%M:%S'\n",
    "\n",
    "date_time = '2020-03-04 0800'\n",
    "pattern = '%Y-%m-%d %H%M'\n",
    "t = time.strptime(date_time, pattern)\n",
    "epoch = int(time.mktime(t))\n",
    "print(epoch)\n",
    "print(t.tm_zone)\n",
    "print(t)\n",
    "print(time.gmtime(epoch))"
   ]
  },
  {
   "cell_type": "code",
   "execution_count": 3,
   "metadata": {},
   "outputs": [
    {
     "name": "stdout",
     "output_type": "stream",
     "text": [
      "Copied C:\\crs\\proj\\2019_CACO_CoastCam\\2020-03-04_HoM_Survey\\1583326800.c1.snap.jpg\n",
      "Copied C:\\crs\\proj\\2019_CACO_CoastCam\\2020-03-04_HoM_Survey\\1583326801.c1.timex.jpg\n",
      "Copied C:\\crs\\proj\\2019_CACO_CoastCam\\2020-03-04_HoM_Survey\\1583330400.c1.snap.jpg\n",
      "Copied C:\\crs\\proj\\2019_CACO_CoastCam\\2020-03-04_HoM_Survey\\1583330401.c1.timex.jpg\n",
      "Copied C:\\crs\\proj\\2019_CACO_CoastCam\\2020-03-04_HoM_Survey\\1583337600.c2.snap.jpg\n",
      "Copied C:\\crs\\proj\\2019_CACO_CoastCam\\2020-03-04_HoM_Survey\\1583337601.c2.timex.jpg\n",
      "Copied C:\\crs\\proj\\2019_CACO_CoastCam\\2020-03-04_HoM_Survey\\1583337600.c1.snap.jpg\n",
      "Copied C:\\crs\\proj\\2019_CACO_CoastCam\\2020-03-04_HoM_Survey\\1583337601.c1.timex.jpg\n",
      "Copied C:\\crs\\proj\\2019_CACO_CoastCam\\2020-03-04_HoM_Survey\\1583341200.c2.snap.jpg\n",
      "Copied C:\\crs\\proj\\2019_CACO_CoastCam\\2020-03-04_HoM_Survey\\1583341201.c2.timex.jpg\n",
      "Copied C:\\crs\\proj\\2019_CACO_CoastCam\\2020-03-04_HoM_Survey\\1583341200.c1.snap.jpg\n",
      "Copied C:\\crs\\proj\\2019_CACO_CoastCam\\2020-03-04_HoM_Survey\\1583341201.c1.timex.jpg\n",
      "Copied C:\\crs\\proj\\2019_CACO_CoastCam\\2020-03-04_HoM_Survey\\1583344800.c2.snap.jpg\n",
      "Copied C:\\crs\\proj\\2019_CACO_CoastCam\\2020-03-04_HoM_Survey\\1583344801.c2.timex.jpg\n",
      "Copied C:\\crs\\proj\\2019_CACO_CoastCam\\2020-03-04_HoM_Survey\\1583344800.c1.snap.jpg\n",
      "Copied C:\\crs\\proj\\2019_CACO_CoastCam\\2020-03-04_HoM_Survey\\1583344801.c1.timex.jpg\n",
      "Copied C:\\crs\\proj\\2019_CACO_CoastCam\\2020-03-04_HoM_Survey\\1583348400.c2.snap.jpg\n",
      "Copied C:\\crs\\proj\\2019_CACO_CoastCam\\2020-03-04_HoM_Survey\\1583348401.c2.timex.jpg\n",
      "Copied C:\\crs\\proj\\2019_CACO_CoastCam\\2020-03-04_HoM_Survey\\1583348400.c1.snap.jpg\n",
      "Copied C:\\crs\\proj\\2019_CACO_CoastCam\\2020-03-04_HoM_Survey\\1583348401.c1.timex.jpg\n"
     ]
    }
   ],
   "source": [
    "boto3.setup_default_session(profile_name='coastcam')\n",
    "s3_resource = boto3.resource('s3')\n",
    "bucket = s3_resource.Bucket('cmgp-coastcam')\n",
    "\n",
    "icount =0\n",
    "\n",
    "camera = {'c1', 'c2'}\n",
    "p2 = {'snap','timex'}\n",
    "e = epoch\n",
    "while e < epoch + 10*3600:\n",
    "    for c in camera:\n",
    "        for p in p2:\n",
    "            for i in range(0,4):\n",
    "                fn = '{0:d}.{1:s}.{2:s}.jpg'.format(e+i,c,p)\n",
    "                #print(fn)\n",
    "                \n",
    "                local_dest = 'C:\\\\crs\\\\proj\\\\2019_CACO_CoastCam\\\\2020-03-04_HoM_Survey\\\\'+fn\n",
    "                try:\n",
    "                    src_key = 'cameras/caco-01/products/'+fn\n",
    "                    bucket.download_file(src_key, local_dest)\n",
    "                    print(\"Copied \"+local_dest)\n",
    "                    icount = icount +1\n",
    "                except:\n",
    "                    #print(\"Fail: \"+src_key)\n",
    "                    pass\n",
    "\n",
    "\n",
    "    e = e+1200\n",
    "    \n"
   ]
  }
 ],
 "metadata": {
  "kernelspec": {
   "display_name": "Python 3",
   "language": "python",
   "name": "python3"
  },
  "language_info": {
   "codemirror_mode": {
    "name": "ipython",
    "version": 3
   },
   "file_extension": ".py",
   "mimetype": "text/x-python",
   "name": "python",
   "nbconvert_exporter": "python",
   "pygments_lexer": "ipython3",
   "version": "3.7.6"
  }
 },
 "nbformat": 4,
 "nbformat_minor": 4
}

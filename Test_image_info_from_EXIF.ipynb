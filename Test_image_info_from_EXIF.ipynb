{
 "cells": [
  {
   "cell_type": "markdown",
   "metadata": {},
   "source": [
    "### Test_image_info_from_EXIF\n",
    "\n",
    "Test snippets for reading EXIF from a directory of images.\n",
    "Read all of the files in a directory and generate a .csv file with name, lat, lon, altitude\n",
    "\n",
    "Part of this was adapted from https://www.codingforentrepreneurs.com/blog/extract-gps-exif-images-python/"
   ]
  },
  {
   "cell_type": "code",
   "execution_count": 1,
   "metadata": {},
   "outputs": [],
   "source": [
    "import sys\n",
    "#import glob\n",
    "import os\n",
    "#from os.path import isfile, join, basename\n",
    "#from os import listdir\n",
    "import numpy as np\n",
    "\n",
    "# EXIF Reader\n",
    "from PIL import Image\n",
    "from PIL.ExifTags import TAGS, GPSTAGS"
   ]
  },
  {
   "cell_type": "code",
   "execution_count": 2,
   "metadata": {},
   "outputs": [],
   "source": [
    "def latlon_from_gps_data(gps_data):\n",
    "    try: \n",
    "        v = gps_data['GPSLatitude']\n",
    "        lat = float(v[0][0])/float(v[0][1])+\\\n",
    "        (1./60.)*float(v[1][0])/float(v[1][1])+\\\n",
    "        (1./3600.)*float(v[2][0])/float(v[2][1])\n",
    "        if gps_data['GPSLatitudeRef']=='S':\n",
    "            lat = -1.*lat\n",
    "\n",
    "        v = gps_data['GPSLongitude'] \n",
    "        lon = float(v[0][0])/float(v[0][1])+\\\n",
    "        (1./60.)*float(v[1][0])/float(v[1][1])+\\\n",
    "        (1./3600.)*float(v[2][0])/float(v[2][1])\n",
    "        if gps_data['GPSLongitudeRef']=='W':\n",
    "            lon = -1.*lon           \n",
    "        try:\n",
    "            v = gps_data['GPSAltitude']\n",
    "            alt = float(v[0])/float(v[1])\n",
    "        except:\n",
    "            alt=np.nap\n",
    "            \n",
    "        return lat, lon, alt\n",
    "    \n",
    "    except:\n",
    "        return np.nan, np.nan, np.nan\n",
    "\n",
    "def get_gps_data(i):\n",
    "    info = i._getexif()\n",
    "    exif_data={}\n",
    "    lat = np.nan\n",
    "    lon = np.nan\n",
    "    alt = np.nan\n",
    "    if info:\n",
    "        for tag, value in info.items():\n",
    "            decoded = TAGS.get(tag, tag)\n",
    "            if decoded == \"GPSInfo\":\n",
    "                gps_data = {}\n",
    "                for t in value:\n",
    "                    sub_decoded = GPSTAGS.get(t, t)\n",
    "                    gps_data[sub_decoded] = value[t]\n",
    "                lat,lon,alt=latlon_from_gps_data(gps_data)\n",
    "    else:\n",
    "        print('Could not find EXIF data in ',filepath)\n",
    "        \n",
    "    return lat,lon,alt"
   ]
  },
  {
   "cell_type": "code",
   "execution_count": 4,
   "metadata": {},
   "outputs": [
    {
     "name": "stdout",
     "output_type": "stream",
     "text": [
      "['DJI_0009.JPG', 'image_no_gps.jpg', 'U0001559.JPG']\n",
      ".\\DJI_0009.JPG\n",
      "DJI_0009.JPG,41.76494539,-70.48121569,59.951\n",
      "image_no_gps.jpg,nan,nan,nan\n",
      "U0001559.JPG,nan,nan,nan\n"
     ]
    }
   ],
   "source": [
    "#dn = 'C:/crs/proj/2015_Sandwich/2016-02-11_PT_images/down/'\n",
    "#fn = 'DJI_0001.JPG'\n",
    "\n",
    "path = '.'\n",
    "outfile = 'gps_list.csv'\n",
    "fout = open(outfile, 'w')\n",
    "files = [f for f in os.listdir(path) if ( f.endswith('.jpg') or f.endswith('.JPG'))]\n",
    "print(files)\n",
    "print(os.path.join(path,files[0]))\n",
    "for file in files:\n",
    "    i = Image.open(os.path.join(path,file))\n",
    "    if i:\n",
    "        lat,lon,alt = get_gps_data(i)\n",
    "        fout.write('{0},{1:.8f},{2:.8f},{3:.3f}\\n'.format(file,lat,lon,alt))\n",
    "        print('{0},{1:.8f},{2:.8f},{3:.3f}'.format(file,lat,lon,alt))\n",
    "\n",
    "    else:\n",
    "        print('Could not open ',dn+file)\n",
    "        \n",
    "fout.close()"
   ]
  },
  {
   "cell_type": "code",
   "execution_count": null,
   "metadata": {},
   "outputs": [],
   "source": [
    "for tag, value in info.items():\n",
    "    decoded = TAGS.get(tag, tag)\n",
    "    print(decoded)"
   ]
  },
  {
   "cell_type": "code",
   "execution_count": null,
   "metadata": {},
   "outputs": [],
   "source": [
    "files = [f for f in listdir(dn) if isfile(join(dn, f))]\n",
    "print(files)"
   ]
  },
  {
   "cell_type": "code",
   "execution_count": null,
   "metadata": {},
   "outputs": [],
   "source": []
  }
 ],
 "metadata": {
  "kernelspec": {
   "display_name": "Python 3",
   "language": "python",
   "name": "python3"
  },
  "language_info": {
   "codemirror_mode": {
    "name": "ipython",
    "version": 3
   },
   "file_extension": ".py",
   "mimetype": "text/x-python",
   "name": "python",
   "nbconvert_exporter": "python",
   "pygments_lexer": "ipython3",
   "version": "3.6.3"
  }
 },
 "nbformat": 4,
 "nbformat_minor": 2
}
